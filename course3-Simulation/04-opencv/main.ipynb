{
 "cells": [
  {
   "cell_type": "markdown",
   "metadata": {},
   "source": [
    "# 1. Example to grap images from a webcam\n",
    "(but this only gives you an rgb, not depth)\n",
    "hit 'q' in the window to stop"
   ]
  },
  {
   "cell_type": "code",
   "execution_count": 1,
   "metadata": {},
   "outputs": [
    {
     "name": "stderr",
     "output_type": "stream",
     "text": [
      "[ WARN:0] global ../modules/videoio/src/cap_gstreamer.cpp (935) open OpenCV | GStreamer warning: Cannot query video position: status=0, value=-1, duration=-1\n"
     ]
    }
   ],
   "source": [
    "import cv2 as cv\n",
    "cap = cv.VideoCapture(0)\n",
    "while(True):\n",
    "    # Capture frame-by-frame\n",
    "    ret, frame = cap.read()\n",
    "    # Our operations on the frame come here\n",
    "    img = frame\n",
    "    #img = cv.cvtColor(frame, cv.COLOR_BGR2GRAY)\n",
    "    # Display the resulting frame\n",
    "    if len(frame)>0:cv.imshow('img', img)\n",
    "    if cv.waitKey(1) & 0xFF == ord('q'):\n",
    "        break"
   ]
  },
  {
   "cell_type": "code",
   "execution_count": 2,
   "metadata": {},
   "outputs": [],
   "source": [
    "# When everything done, release the capture\n",
    "cap.release()\n",
    "cv.destroyAllWindows()"
   ]
  },
  {
   "cell_type": "markdown",
   "metadata": {},
   "source": [
    "# 2. Example to convert simulated RGB-D images into point clouds"
   ]
  },
  {
   "cell_type": "code",
   "execution_count": null,
   "metadata": {},
   "outputs": [],
   "source": [
    "import os\n",
    "os._exit(0)"
   ]
  },
  {
   "cell_type": "code",
   "execution_count": 1,
   "metadata": {},
   "outputs": [
    {
     "name": "stdout",
     "output_type": "stream",
     "text": [
      "**ry-c++-log** ry.cpp:init_LogToPythonConsole:34(0) initializing ry log callback\n",
      "\n",
      "**ry-c++-log** util.cpp:initCmdLine:545(1) ** cmd line arguments: 'rai-pybind -python '** INFO:ry.cpp:init_LogToPythonConsole:34(0) initializing ry log callback\n",
      "\n",
      "\n",
      "**ry-c++-log** util.cpp:initCmdLine:549(1) ** run path: '/home/quim/stg/jungsu/robotics-course/course3-Simulation/04-opencv'** INFO:util.cpp:initCmdLine:545(1) ** cmd line arguments: 'rai-pybind -python '\n",
      "\n",
      "\n",
      "**ry-c++-log** graph.cpp:initParameters:1379(1) ** parsed parameters:\n",
      "{python}\n",
      "** INFO:util.cpp:initCmdLine:549(1) ** run path: '/home/quim/stg/jungsu/robotics-course/course3-Simulation/04-opencv'\n",
      "\n",
      "\n",
      "4.2.0** INFO:graph.cpp:initParameters:1379(1) ** parsed parameters:\n",
      "{python}\n",
      "\n",
      "\n"
     ]
    }
   ],
   "source": [
    "import sys\n",
    "sys.path.append('../../../robotics-course/build')\n",
    "import cv2 as cv\n",
    "import numpy as np\n",
    "import libry as ry\n",
    "import time\n",
    "print(cv.__version__)"
   ]
  },
  {
   "cell_type": "code",
   "execution_count": 10,
   "metadata": {},
   "outputs": [],
   "source": [
    "#-- Add REAL WORLD configuration and camera\n",
    "RealWorld = ry.Config()\n",
    "RealWorld.addFile(\"../../../robotics-course/scenarios/challenge.g\")\n",
    "RealWorld.frame(\"obj1\").setColor([1,0,0])\n",
    "S = RealWorld.simulation(ry.SimulatorEngine.bullet, True)\n",
    "S.addSensor(\"camera\")\n",
    "\n",
    "\n",
    "C = ry.Config()\n",
    "C.addFile('../../scenarios/pandasTable.g')\n",
    "D = C.view()\n",
    "cameraFrame = C.frame(\"camera\")"
   ]
  },
  {
   "cell_type": "code",
   "execution_count": 11,
   "metadata": {},
   "outputs": [],
   "source": [
    "# Intrinsic Params..\n",
    "camInfo = cameraFrame.info()\n",
    "f = camInfo['focalLength']\n",
    "f = f * camInfo['height']\n",
    "fxfypxpy = [f, f, camInfo['width']/2, camInfo['height']/2]"
   ]
  },
  {
   "cell_type": "code",
   "execution_count": 12,
   "metadata": {},
   "outputs": [],
   "source": [
    "points = []\n",
    "tau = .01\n",
    "\n",
    "for t in range(300):\n",
    "    time.sleep(0.01)\n",
    "\n",
    "    #grab sensor readings from the simulation\n",
    "    if t%10 == 0:\n",
    "        [rgb, depth] = S.getImageAndDepth()  #we don't need images with 100Hz, rendering is slow\n",
    "        points = S.depthData2pointCloud(depth, fxfypxpy)\n",
    "        cameraFrame.setPointCloud(points, rgb)\n",
    "            \n",
    "        if len(rgb)>0: cv.imshow('OPENCV - rgb',\n",
    "                                 cv.cvtColor(rgb, cv.COLOR_BGR2RGB))\n",
    "        if len(depth)>0: cv.imshow('OPENCV - depth', 0.5* depth)\n",
    "\n",
    "        if cv.waitKey(1) & 0xFF == ord('q'):\n",
    "            break\n",
    "        \n",
    "    S.step([], tau, ry.ControlMode.none)"
   ]
  },
  {
   "cell_type": "code",
   "execution_count": 13,
   "metadata": {},
   "outputs": [],
   "source": [
    "cv.destroyAllWindows()"
   ]
  },
  {
   "cell_type": "markdown",
   "metadata": {},
   "source": [
    "# 3. example to use multiple camera attached to different robot frames"
   ]
  },
  {
   "cell_type": "code",
   "execution_count": null,
   "metadata": {},
   "outputs": [],
   "source": [
    "import os\n",
    "os._exit(0)"
   ]
  },
  {
   "cell_type": "code",
   "execution_count": null,
   "metadata": {},
   "outputs": [],
   "source": [
    "import sys\n",
    "sys.path.append('../../build')\n",
    "import libry as ry\n",
    "RealWorld = ry.Config()\n",
    "RealWorld.addFile(\"../../scenarios/challenge.g\")\n",
    "# change the position of the central sensor\n",
    "f = RealWorld.frame(\"camera\")\n",
    "f.setPosition(f.getPosition()+[0,0,.5])\n",
    "# add a frame for the additional camera\n",
    "f = RealWorld.addFrame(\"R_gripperCamera\", \"R_gripperCenter\")\n",
    "f.setShape(ry.ST.marker, [.2])\n",
    "S = RealWorld.simulation(ry.SimulatorEngine.bullet, True)\n",
    "S.addSensor(\"camera\") # camera is a pre-existing frame that specifies the intrinsic camera parameter\n",
    "S.addSensor(\"Rcamera\", \"R_gripperCamera\", 640, 360, 1.) # R_gripperCamera is a fresh frame - we have to specify intrinsic parameters explicitly\n",
    "for _ in range(100):\n",
    "    S.step([], 0.01, ry.ControlMode.none)\n",
    "\n",
    "for k in range(5):\n",
    "    # get images from the wrist\n",
    "    S.selectSensor(\"camera\")\n",
    "    [rgb, depth] = S.getImageAndDepth()\n",
    "    input()\n",
    "    # get images from the main sensor\n",
    "    S.selectSensor(\"Rcamera\")\n",
    "    [rgb, depth] = S.getImageAndDepth()\n",
    "    input()"
   ]
  },
  {
   "cell_type": "code",
   "execution_count": null,
   "metadata": {},
   "outputs": [],
   "source": []
  }
 ],
 "metadata": {
  "kernelspec": {
   "display_name": "Python 3 (ipykernel)",
   "language": "python",
   "name": "python3"
  },
  "language_info": {
   "codemirror_mode": {
    "name": "ipython",
    "version": 3
   },
   "file_extension": ".py",
   "mimetype": "text/x-python",
   "name": "python",
   "nbconvert_exporter": "python",
   "pygments_lexer": "ipython3",
   "version": "3.8.10"
  }
 },
 "nbformat": 4,
 "nbformat_minor": 4
}
