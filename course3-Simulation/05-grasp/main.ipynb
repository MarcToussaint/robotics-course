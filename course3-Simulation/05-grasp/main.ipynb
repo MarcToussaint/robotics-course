{
 "cells": [
  {
   "cell_type": "code",
   "execution_count": null,
   "metadata": {},
   "outputs": [],
   "source": [
    "import sys\n",
    "sys.path.append('../../build')\n",
    "import numpy as np\n",
    "import libry as ry\n",
    "import time"
   ]
  },
  {
   "cell_type": "code",
   "execution_count": null,
   "metadata": {},
   "outputs": [],
   "source": [
    "#Let's edit the real world before we create the simulation\n",
    "RealWorld = ry.Config()\n",
    "RealWorld.addFile(\"../../scenarios/challenge.g\")\n",
    "\n",
    "#you can also change the shape & size\n",
    "RealWorld.getFrame(\"obj0\").setColor([1.,0,0])\n",
    "RealWorld.getFrame(\"obj0\").setShape(ry.ST.sphere, [.03])\n",
    "RealWorld.getFrame(\"obj0\").setPosition([0., .2, 2.])\n",
    "RealWorld.getFrame(\"obj0\").setContact(1)\n",
    "\n",
    "#remove some objects\n",
    "for o in range(1,30):\n",
    "    name = \"obj%i\" % o\n",
    "#     print(\"deleting\", name)\n",
    "    RealWorld.delFrame(name)\n",
    "    \n",
    "    \n",
    "# instantiate the simulation\n",
    "S = RealWorld.simulation(ry.SimulatorEngine.bullet, True)\n",
    "S.addSensor(\"camera\")\n",
    "\n",
    "# we're adding an \"imp\" to the simulation, which is a little process that can inject perturbations\n",
    "S.addImp(ry.ImpType.objectImpulses, ['obj0'], [])"
   ]
  },
  {
   "cell_type": "code",
   "execution_count": null,
   "metadata": {},
   "outputs": [],
   "source": [
    "# setup your model world\n",
    "C = ry.Config()\n",
    "C.addFile(\"../../scenarios/pandasTable.g\")\n",
    "\n",
    "obj = C.addFrame(\"object\")\n",
    "obj.setColor([1.,0,0]) # set the color of one objet to red!\n",
    "obj.setShape(ry.ST.sphere, [.03]) # assume that we know the object shape\n",
    "\n",
    "D = C.view();"
   ]
  },
  {
   "cell_type": "code",
   "execution_count": null,
   "metadata": {},
   "outputs": [],
   "source": [
    "points = []\n",
    "tau = .01\n",
    "\n",
    "gripping = False\n",
    "grasped = False\n",
    "\n",
    "for t in range(3000):\n",
    "    time.sleep(tau)\n",
    "\n",
    "    #grab sensor readings from the simulation\n",
    "    q = S.get_q()\n",
    "    if t%10 == 0:\n",
    "        [rgb, depth] = S.getImageAndDepth()  #we don't need images with 100Hz, rendering is slow\n",
    "    \n",
    "    # TOTAL CHEAT: grab the true position from the RealWorld\n",
    "    objectPosition = RealWorld.frame(\"obj0\").getPosition();\n",
    "    obj.setPosition(objectPosition) # set the model object to percept\n",
    "    \n",
    "    C.setJointState(q); # set your robot model to match the real q\n",
    "    \n",
    "    y, J = C.evalFeature(ry.FS.positionDiff, [\"R_gripperCenter\", \"object\"])\n",
    "    \n",
    "    qdot = np.linalg.inv(J.T@J + 1e-3*np.eye(q.shape[0])) @ J.T @ (-5*y)\n",
    "    \n",
    "    if not gripping and np.linalg.norm(y) < .001:\n",
    "        S.closeGripper(\"R_gripper\", speed=1.)\n",
    "        gripping = True\n",
    "        \n",
    "    if gripping and S.getGripperWidth(\"R_gripper\") < 1e-2:\n",
    "        print(\"FAILED!\")\n",
    "        S.openGripper(\"R_gripper\", speed=1.)\n",
    "        gripping = False\n",
    "        \n",
    "    if gripping and S.getGripperIsGrasping(\"R_gripper\"):\n",
    "        print(\"GRASPED!\")\n",
    "        grasped = True\n",
    "        break\n",
    "\n",
    "    S.step(qdot, tau, ry.ControlMode.velocity)"
   ]
  },
  {
   "cell_type": "code",
   "execution_count": null,
   "metadata": {},
   "outputs": [],
   "source": []
  }
 ],
 "metadata": {
  "kernelspec": {
   "display_name": "base",
   "language": "python",
   "name": "base"
  },
  "language_info": {
   "codemirror_mode": {
    "name": "ipython",
    "version": 3
   },
   "file_extension": ".py",
   "mimetype": "text/x-python",
   "name": "python",
   "nbconvert_exporter": "python",
   "pygments_lexer": "ipython3",
   "version": "3.8.5"
  }
 },
 "nbformat": 4,
 "nbformat_minor": 4
}
