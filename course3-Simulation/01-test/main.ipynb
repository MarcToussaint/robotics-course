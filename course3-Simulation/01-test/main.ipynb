{
 "cells": [
  {
   "cell_type": "markdown",
   "metadata": {},
   "source": [
    "## push test"
   ]
  },
  {
   "cell_type": "code",
   "execution_count": 1,
   "metadata": {},
   "outputs": [
    {
     "name": "stdout",
     "output_type": "stream",
     "text": [
      "**ry-c++-log** ry.cpp:init_LogToPythonConsole:34(0) initializing ry log callback\n",
      "\n",
      "**ry-c++-log** util.cpp:initCmdLine:545(1) ** cmd line arguments: 'rai-pybind -python '** INFO:ry.cpp:init_LogToPythonConsole:34(0) initializing ry log callback\n",
      "\n",
      "\n",
      "**ry-c++-log** util.cpp:initCmdLine:549(1) ** run path: '/home/jung-su/git/robotics-course/course3-Simulation/01-test'** INFO:util.cpp:initCmdLine:545(1) ** cmd line arguments: 'rai-pybind -python '\n",
      "\n",
      "\n",
      "**ry-c++-log** graph.cpp:initParameters:1379(1) ** parsed parameters:\n",
      "{python,\n",
      "bullet/defaultFriction:1,\n",
      "bullet/defaultRestitution:0.1,\n",
      "bullet/contactStiffness:10000,\n",
      "bullet/contactDamping:10.1}\n",
      "** INFO:util.cpp:initCmdLine:549(1) ** run path: '/home/jung-su/git/robotics-course/course3-Simulation/01-test'\n",
      "\n",
      "\n",
      "** INFO:graph.cpp:initParameters:1379(1) ** parsed parameters:\n",
      "{python,\n",
      "bullet/defaultFriction:1,\n",
      "bullet/defaultRestitution:0.1,\n",
      "bullet/contactStiffness:10000,\n",
      "bullet/contactDamping:10.1}\n",
      "\n"
     ]
    }
   ],
   "source": [
    "import sys\n",
    "sys.path.append('../../build')\n",
    "import libry as ry\n",
    "import numpy as np\n",
    "import time"
   ]
  },
  {
   "cell_type": "code",
   "execution_count": 2,
   "metadata": {},
   "outputs": [],
   "source": [
    "C = ry.Config()\n",
    "D = C.view()\n",
    "C.addFile(\"model.g\")\n",
    "Xstart = C.getFrameState()\n",
    "S = C.simulation(ry.SimulatorEngine.bullet, True)"
   ]
  },
  {
   "cell_type": "code",
   "execution_count": 3,
   "metadata": {},
   "outputs": [],
   "source": [
    "for k in range (1):\n",
    "    #restart from same state multiple times\n",
    "    S.setState(Xstart)\n",
    "\n",
    "    tau = .01\n",
    "    box = C.frame(\"box\")\n",
    "\n",
    "    for t in range(1000):\n",
    "        \n",
    "\n",
    "        if t%10 == 0:\n",
    "            S.getImageAndDepth()  #we don't need images with 100Hz, rendering is slow\n",
    "\n",
    "        time.sleep(0.01)\n",
    "\n",
    "        #some good old fashioned IK\n",
    "        q = C.getJointState();\n",
    "        [y,J] = C.evalFeature(ry.FS.positionDiff, [\"gripper\", \"ring\"])\n",
    "        y = y * .003 / np.linalg.norm(y)\n",
    "        q = q - J.T @ np.linalg.inv(J@J.T + 1e-2*np.eye(y.shape[0])) @ y\n",
    "        C.setJointState(q)\n",
    "        S.step(q, tau,  ry.ControlMode.position)\n",
    "        \n",
    "\n",
    "#         if t%100 == 0:\n",
    "#             p = box.getPosition()\n",
    "#             p[0] += .05\n",
    "#             p[2] += .2\n",
    "#             box.setPosition(p)\n",
    "#             S.setState(C.getFrameState())"
   ]
  },
  {
   "cell_type": "markdown",
   "metadata": {},
   "source": [
    "## grasp test"
   ]
  },
  {
   "cell_type": "code",
   "execution_count": null,
   "metadata": {},
   "outputs": [],
   "source": [
    "import os\n",
    "os._exit(0)"
   ]
  },
  {
   "cell_type": "code",
   "execution_count": 4,
   "metadata": {},
   "outputs": [],
   "source": [
    "import sys\n",
    "sys.path.append('../../build')\n",
    "import libry as ry\n",
    "import numpy as np\n",
    "import time"
   ]
  },
  {
   "cell_type": "code",
   "execution_count": 5,
   "metadata": {},
   "outputs": [],
   "source": [
    "C = ry.Config()\n",
    "D = C.view()\n",
    "C.addFile(\"model.g\")\n",
    "Xstart = C.getFrameState()\n",
    "C.selectJoints([\"finger1\", \"finger2\"], True)"
   ]
  },
  {
   "cell_type": "code",
   "execution_count": 6,
   "metadata": {},
   "outputs": [],
   "source": [
    "#S = C.simulation(ry.SimulatorEngine.physx, True)\n",
    "S = ry.Simulation(C, ry.SimulatorEngine.bullet, True)"
   ]
  },
  {
   "cell_type": "code",
   "execution_count": 7,
   "metadata": {},
   "outputs": [],
   "source": [
    "tau = .01\n",
    "t=0\n",
    "#S.setState(Xstart, [])\n",
    "\n",
    "while True:\n",
    "    t = t+1\n",
    "    \n",
    "    if t%10 == 0:\n",
    "        S.getImageAndDepth()  #we don't need images with 100Hz, rendering is slow\n",
    "\n",
    "    time.sleep(0.01)\n",
    "\n",
    "    q = S.get_q()\n",
    "\n",
    "    #some good old fashioned IK\n",
    "    if t > 40 and t<=300:\n",
    "        #q = C.getJointState()\n",
    "        [y,J] = C.evalFeature(ry.FS.oppose, [\"finger1\", \"finger2\", \"ring4\"])\n",
    "        y = y * min(.008/np.linalg.norm(y), 1.)\n",
    "        q = q - J.T @ np.linalg.inv(J@J.T + 1e-2*np.eye(y.shape[0])) @ y\n",
    "        \n",
    "    if t==300:\n",
    "        S.closeGripper(\"gripper\")\n",
    "        \n",
    "    if S.getGripperIsGrasping(\"gripper\"):\n",
    "        [y,J] = C.evalFeature(ry.FS.position, [\"gripper\"]);\n",
    "        q = q - J.T @ np.linalg.inv(J@J.T + 1e-2*np.eye(y.shape[0])) @ [0.,0.,-2e-4]\n",
    "\n",
    "    if t==900:\n",
    "        S.openGripper(\"gripper\")\n",
    "    \n",
    "    if t>1000 and S.getGripperWidth(\"gripper\")>=.02:\n",
    "        break\n",
    "\n",
    "    S.step(q, tau, ry.ControlMode.position)\n"
   ]
  },
  {
   "cell_type": "code",
   "execution_count": 8,
   "metadata": {},
   "outputs": [],
   "source": [
    "S=0\n",
    "D=0\n",
    "C=0"
   ]
  },
  {
   "cell_type": "markdown",
   "metadata": {},
   "source": [
    "## Stack of Blocks Test"
   ]
  },
  {
   "cell_type": "code",
   "execution_count": null,
   "metadata": {},
   "outputs": [],
   "source": [
    "import os\n",
    "os._exit(0)"
   ]
  },
  {
   "cell_type": "code",
   "execution_count": 1,
   "metadata": {},
   "outputs": [
    {
     "name": "stdout",
     "output_type": "stream",
     "text": [
      "**ry-c++-log** ry.cpp:init_LogToPythonConsole:34(0) initializing ry log callback\n",
      "\n",
      "**ry-c++-log** util.cpp:initCmdLine:545(1) ** cmd line arguments: 'rai-pybind -python '** INFO:ry.cpp:init_LogToPythonConsole:34(0) initializing ry log callback\n",
      "\n",
      "\n",
      "**ry-c++-log** util.cpp:initCmdLine:549(1) ** run path: '/home/jung-su/git/robotics-course/course3-Simulation/01-test'** INFO:util.cpp:initCmdLine:545(1) ** cmd line arguments: 'rai-pybind -python '\n",
      "\n",
      "\n",
      "**ry-c++-log** graph.cpp:initParameters:1379(1) ** parsed parameters:\n",
      "{python,\n",
      "bullet/defaultFriction:1,\n",
      "bullet/defaultRestitution:0.1,\n",
      "bullet/contactStiffness:10000,\n",
      "bullet/contactDamping:10.1}\n",
      "** INFO:util.cpp:initCmdLine:549(1) ** run path: '/home/jung-su/git/robotics-course/course3-Simulation/01-test'\n",
      "\n",
      "\n",
      "** INFO:graph.cpp:initParameters:1379(1) ** parsed parameters:\n",
      "{python,\n",
      "bullet/defaultFriction:1,\n",
      "bullet/defaultRestitution:0.1,\n",
      "bullet/contactStiffness:10000,\n",
      "bullet/contactDamping:10.1}\n",
      "\n"
     ]
    }
   ],
   "source": [
    "import sys\n",
    "sys.path.append('../../build')\n",
    "import libry as ry\n",
    "import numpy as np\n",
    "import time"
   ]
  },
  {
   "cell_type": "code",
   "execution_count": 2,
   "metadata": {},
   "outputs": [],
   "source": [
    "C = ry.Config()\n",
    "D = C.view()\n",
    "for i in range(7):\n",
    "    obj = C.addFrame(\"obj\"+str(i))\n",
    "    obj.setShape(ry.ST.ssBox, [.2,.2,.2,.02])\n",
    "    obj.setPosition([0,0,1+0.25*i])\n",
    "    obj.setMass(1.)\n",
    "\n",
    "C.addFile(\"../../scenarios/pandasTable.g\")"
   ]
  },
  {
   "cell_type": "code",
   "execution_count": 3,
   "metadata": {},
   "outputs": [
    {
     "name": "stdout",
     "output_type": "stream",
     "text": [
      "**ry-c++-log** kin.cpp:getFrame:362(-1) cannot find frame named 'box'\n",
      "\n",
      "** WARNING:kin.cpp:getFrame:362(-1) cannot find frame named 'box'\n"
     ]
    }
   ],
   "source": [
    "S = ry.Simulation(C, ry.SimulatorEngine.bullet, True)\n",
    "tau = .01\n",
    "box = C.frame(\"box\")\n",
    "\n",
    "for t in range(400):\n",
    "    S.step([], tau, ry.ControlMode.none)\n",
    "    time.sleep(0.01)"
   ]
  },
  {
   "cell_type": "markdown",
   "metadata": {},
   "source": [
    "## Friction Test"
   ]
  },
  {
   "cell_type": "code",
   "execution_count": null,
   "metadata": {},
   "outputs": [],
   "source": [
    "import os\n",
    "os._exit(0)"
   ]
  },
  {
   "cell_type": "code",
   "execution_count": 1,
   "metadata": {},
   "outputs": [
    {
     "name": "stdout",
     "output_type": "stream",
     "text": [
      "**ry-c++-log** ry.cpp:init_LogToPythonConsole:34(0) initializing ry log callback\n",
      "\n",
      "**ry-c++-log** util.cpp:initCmdLine:545(1) ** cmd line arguments: 'rai-pybind -python '** INFO:ry.cpp:init_LogToPythonConsole:34(0) initializing ry log callback\n",
      "\n",
      "\n",
      "**ry-c++-log** util.cpp:initCmdLine:549(1) ** run path: '/home/jung-su/git/robotics-course/course3-Simulation/01-test'** INFO:util.cpp:initCmdLine:545(1) ** cmd line arguments: 'rai-pybind -python '\n",
      "\n",
      "\n",
      "**ry-c++-log** graph.cpp:initParameters:1379(1) ** parsed parameters:\n",
      "{python,\n",
      "bullet/defaultFriction:1,\n",
      "bullet/defaultRestitution:0.1,\n",
      "bullet/contactStiffness:10000,\n",
      "bullet/contactDamping:10.1}\n",
      "** INFO:util.cpp:initCmdLine:549(1) ** run path: '/home/jung-su/git/robotics-course/course3-Simulation/01-test'\n",
      "\n",
      "\n",
      "** INFO:graph.cpp:initParameters:1379(1) ** parsed parameters:\n",
      "{python,\n",
      "bullet/defaultFriction:1,\n",
      "bullet/defaultRestitution:0.1,\n",
      "bullet/contactStiffness:10000,\n",
      "bullet/contactDamping:10.1}\n",
      "\n"
     ]
    }
   ],
   "source": [
    "import sys\n",
    "sys.path.append('../../build')\n",
    "import libry as ry\n",
    "import numpy as np\n",
    "import time"
   ]
  },
  {
   "cell_type": "code",
   "execution_count": 4,
   "metadata": {},
   "outputs": [],
   "source": [
    "C = ry.Config()\n",
    "D = C.view()\n",
    "for i in range(10):\n",
    "    obj = C.addFrame(\"obj\"+str(i))\n",
    "    obj.setShape(ry.ST.ssBox, [.1,.1,.1,.01])\n",
    "    obj.setPosition([.15*(i-5),0,1])\n",
    "    obj.setMass(.2)\n",
    "    obj.addAttribute(\"friction\", .02*i)\n",
    "\n",
    "C.addFile(\"../../scenarios/pandasTable.g\")\n",
    "C.frame(\"table\").setQuaternion([1., -.1, 0., 0.])"
   ]
  },
  {
   "cell_type": "code",
   "execution_count": 5,
   "metadata": {},
   "outputs": [
    {
     "name": "stdout",
     "output_type": "stream",
     "text": [
      "**ry-c++-log** kin.cpp:getFrame:362(-1) cannot find frame named 'box'\n",
      "\n",
      "** WARNING:kin.cpp:getFrame:362(-1) cannot find frame named 'box'\n"
     ]
    }
   ],
   "source": [
    "S = ry.Simulation(C, ry.SimulatorEngine.bullet, True)\n",
    "tau = .01\n",
    "box = C.frame(\"box\")\n",
    "\n",
    "for t in range(400):\n",
    "    S.step([], tau, ry.ControlMode.none)\n",
    "    time.sleep(0.01)"
   ]
  },
  {
   "cell_type": "markdown",
   "metadata": {},
   "source": [
    "## Spline Execution Test"
   ]
  },
  {
   "cell_type": "code",
   "execution_count": 2,
   "metadata": {},
   "outputs": [
    {
     "name": "stdout",
     "output_type": "stream",
     "text": [
      "** KOMO::run solver:sparse collisions:1 x-dim:280 T:20 k:2 phases:1 stepsPerPhase:20 tau:0.25  #timeSlices:22 #totalDOFs:280 #frames:2398\n",
      "** optimization time:0.246283 (kin:0.009385 coll:0.196643 feat:0.024315 newton: 0.004699) setJointStateCount:67\n",
      "   sos:0.226703 ineq:0 eq:0.0154975\n"
     ]
    },
    {
     "data": {
      "text/plain": [
       "(20, 14)"
      ]
     },
     "execution_count": 2,
     "metadata": {},
     "output_type": "execute_result"
    }
   ],
   "source": [
    "import sys\n",
    "sys.path.append('../../build')\n",
    "import numpy as np\n",
    "import libry as ry\n",
    "import time\n",
    "\n",
    "C = ry.Config()\n",
    "C.addFile(\"../../scenarios/pandasTable.g\")\n",
    "komo = C.komo_path(1., 20, 5., True)\n",
    "komo.addObjective([1.], ry.FS.distance, [\"R_finger2_coll\", \"table\"], ry.OT.eq, [1e2])\n",
    "\n",
    "komo.addObjective([], ry.FS.accumulatedCollisions, [], ry.OT.eq, [1e1])\n",
    "komo.addObjective([1.], ry.FS.qItself, [], ry.OT.eq, [1e1], order=1)\n",
    "komo.optimize()\n",
    "komo.view_play(False, 0.1)\n",
    "\n",
    "path_q = komo.getPath_qOrg()\n",
    "path_q.shape"
   ]
  },
  {
   "cell_type": "code",
   "execution_count": 3,
   "metadata": {},
   "outputs": [
    {
     "name": "stdout",
     "output_type": "stream",
     "text": [
      "0.0 timeToGo:  4.99\n",
      "1.0 timeToGo:  3.9899999999999993\n",
      "2.0 timeToGo:  2.989999999999999\n",
      "3.0 timeToGo:  1.9900000000000202\n",
      "4.0 timeToGo:  0.9900000000000411\n",
      "5.0 timeToGo:  -0.009999999999937614\n"
     ]
    }
   ],
   "source": [
    "RealWorld = ry.Config()\n",
    "RealWorld.addFile(\"../../scenarios/pandasTable.g\")\n",
    "\n",
    "S = RealWorld.simulation(ry.SimulatorEngine.bullet, True)\n",
    "S.setMoveto(path_q, 5.)\n",
    "\n",
    "tau = 0.01\n",
    "for t in range(1000):\n",
    "    S.step([], tau, ry.ControlMode.spline)\n",
    "    if t%100 == 0:\n",
    "        print(t*tau, \"timeToGo: \", S.getTimeToMove())\n",
    "        \n",
    "    time.sleep(0.01)\n",
    "    if S.getTimeToMove() < 0.:\n",
    "        break"
   ]
  },
  {
   "cell_type": "code",
   "execution_count": null,
   "metadata": {},
   "outputs": [],
   "source": []
  }
 ],
 "metadata": {
  "kernelspec": {
   "display_name": "base",
   "language": "python",
   "name": "base"
  },
  "language_info": {
   "codemirror_mode": {
    "name": "ipython",
    "version": 3
   },
   "file_extension": ".py",
   "mimetype": "text/x-python",
   "name": "python",
   "nbconvert_exporter": "python",
   "pygments_lexer": "ipython3",
   "version": "3.8.5"
  }
 },
 "nbformat": 4,
 "nbformat_minor": 4
}
