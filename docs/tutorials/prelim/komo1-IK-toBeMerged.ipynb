{
 "cells": [
  {
   "cell_type": "markdown",
   "metadata": {},
   "source": [
    "# Inverse Kinematics as Optimization (to be merged)\n",
    "\n",
    "TODO: merge with previous. The previous doc explained features and how they define objectives of a constrained optimization problem. Here we show how to use this to solve IK optimization problems.\n",
    "\n",
    "At the bottom there is more general text explaining the basic concepts."
   ]
  },
  {
   "cell_type": "markdown",
   "metadata": {},
   "source": [
    "## Demo of features in Inverse Kinematics\n",
    "\n",
    "Let's setup a standard configuration. (Lock the window with \"Always on Top\".)"
   ]
  },
  {
   "cell_type": "code",
   "execution_count": null,
   "metadata": {},
   "outputs": [],
   "source": [
    "import sys\n",
    "sys.path.append('../build') #rai/lib')\n",
    "import numpy as np\n",
    "from robotic import ry"
   ]
  },
  {
   "cell_type": "code",
   "execution_count": null,
   "metadata": {},
   "outputs": [],
   "source": [
    "C = ry.Config()\n",
    "C.addFile('../rai-robotModels/pr2/pr2.g')\n",
    "C.addFile('../rai-robotModels/objects/kitchen.g')\n",
    "C.view()"
   ]
  },
  {
   "cell_type": "markdown",
   "metadata": {},
   "source": [
    "For simplicity, let's add a frame that represents goals"
   ]
  },
  {
   "cell_type": "code",
   "execution_count": null,
   "metadata": {},
   "outputs": [],
   "source": [
    "goal = C.addFrame(\"goal\")\n",
    "goal.setShape(ry.ST.sphere, [.05])\n",
    "goal.setColor([.5,1,1])\n",
    "goal.setPosition([1,.5,1])\n",
    "X0 = C.getFrameState() #store the initial configuration"
   ]
  },
  {
   "cell_type": "markdown",
   "metadata": {},
   "source": [
    "We create an IK engine. The only objective is that the `positionDiff` (position difference in world coordinates) between `pr2L` (the yellow blob in the left hand) and `goal` is equal to zero:"
   ]
  },
  {
   "cell_type": "code",
   "execution_count": null,
   "metadata": {},
   "outputs": [],
   "source": [
    "IK = C.komo_IK(False)\n",
    "IK.addObjective([], type=ry.OT.eq, feature=ry.FS.positionDiff, frames=['pr2L', 'goal'])"
   ]
  },
  {
   "cell_type": "markdown",
   "metadata": {},
   "source": [
    "We now call the optimizer (True means with random initialization/restart)."
   ]
  },
  {
   "cell_type": "code",
   "execution_count": null,
   "metadata": {},
   "outputs": [],
   "source": [
    "IK.optimize()\n",
    "IK.getReport()"
   ]
  },
  {
   "cell_type": "markdown",
   "metadata": {},
   "source": [
    "The best way to retrieve the result is to copy the optimized IK configuration back into your working configuration C, which is now also displayed"
   ]
  },
  {
   "cell_type": "code",
   "execution_count": null,
   "metadata": {},
   "outputs": [],
   "source": [
    "C.setFrameState( IK.getFrameState(0) )"
   ]
  },
  {
   "cell_type": "markdown",
   "metadata": {},
   "source": [
    "We can redo the optimization, but for a different configuration, namely a configuration where the goal is in another location.\n",
    "For this we move goal in our working configuration C, then copy C back into the IK engine's configurations:"
   ]
  },
  {
   "cell_type": "code",
   "execution_count": null,
   "metadata": {},
   "outputs": [],
   "source": [
    "## (iterate executing this cell for different goal locations!)\n",
    "\n",
    "# move goal\n",
    "goal.setPosition([.8,.2,1.5])\n",
    "\n",
    "# # copy C into the IK's internal configuration(s)\n",
    "# IK.setConfigurations(C)\n",
    "\n",
    "# redefine the IK problem\n",
    "IK = C.komo_IK(False)\n",
    "IK.addObjective([], type=ry.OT.eq, feature=ry.FS.positionDiff, frames=['pr2L', 'goal'])\n",
    "\n",
    "# reoptimize\n",
    "IK.optimize(0.) # 0: no adding of noise for a random restart\n",
    "print(IK.getReport())\n",
    "\n",
    "# grab result\n",
    "C.setFrameState( IK.getFrameState(0) )"
   ]
  },
  {
   "cell_type": "markdown",
   "metadata": {},
   "source": [
    "Let's solve some other problems, always creating a novel IK engine:\n",
    "\n",
    "The relative position of `goal` in `pr2R` coordinates equals [0,0,-.2] (which is 20cm straight in front of the yellow blob)"
   ]
  },
  {
   "cell_type": "code",
   "execution_count": null,
   "metadata": {},
   "outputs": [],
   "source": [
    "C.setFrameState(X0)\n",
    "IK = C.komo_IK(False)\n",
    "IK.addObjective([],type=ry.OT.eq, feature=ry.FS.positionRel, frames=['goal','pr2R'], target=[0,0,-.2])\n",
    "IK.optimize()\n",
    "C.setFrameState( IK.getFrameState(0) )"
   ]
  },
  {
   "cell_type": "markdown",
   "metadata": {},
   "source": [
    "The distance between `pr2R` and `pr2L` is zero:"
   ]
  },
  {
   "cell_type": "code",
   "execution_count": null,
   "metadata": {},
   "outputs": [],
   "source": [
    "C.setFrameState(X0)\n",
    "IK = C.komo_IK(False)\n",
    "IK.addObjective([], type=ry.OT.eq, feature=ry.FS.distance, frames=['pr2L','pr2R'])\n",
    "IK.optimize()\n",
    "C.setFrameState( IK.getFrameState(0) )"
   ]
  },
  {
   "cell_type": "markdown",
   "metadata": {},
   "source": [
    "The 3D difference between the z-vector of `pr2R` and the z-vector of `goal`:"
   ]
  },
  {
   "cell_type": "code",
   "execution_count": null,
   "metadata": {},
   "outputs": [],
   "source": [
    "C.setFrameState(X0)\n",
    "IK = C.komo_IK(False)\n",
    "IK.addObjective([], type=ry.OT.eq, feature=ry.FS.vectorZDiff, frames=['pr2R', 'goal'])\n",
    "IK.optimize()\n",
    "C.setFrameState( IK.getFrameState(0) )"
   ]
  },
  {
   "cell_type": "markdown",
   "metadata": {},
   "source": [
    "The scalar product between the z-vector of `pr2R` and the z-vector of `goal` is zero:"
   ]
  },
  {
   "cell_type": "code",
   "execution_count": null,
   "metadata": {},
   "outputs": [],
   "source": [
    "C.setFrameState(X0)\n",
    "IK = C.komo_IK(False)\n",
    "IK.addObjective([], type=ry.OT.eq, feature=ry.FS.scalarProductZZ, frames=['pr2R', 'goal'])\n",
    "IK.optimize()\n",
    "C.setFrameState( IK.getFrameState(0) )"
   ]
  },
  {
   "cell_type": "markdown",
   "metadata": {},
   "source": [
    "etc etc"
   ]
  },
  {
   "cell_type": "code",
   "execution_count": null,
   "metadata": {},
   "outputs": [],
   "source": [
    "# Designing a cylinder grasp"
   ]
  },
  {
   "cell_type": "code",
   "execution_count": null,
   "metadata": {},
   "outputs": [],
   "source": [
    "D=0\n",
    "C=0"
   ]
  },
  {
   "cell_type": "code",
   "execution_count": null,
   "metadata": {},
   "outputs": [],
   "source": [
    "C = ry.Config()\n",
    "D = C.view()\n",
    "C.addFile('../rai-robotModels/pr2/pr2.g')\n",
    "C.addFile('../rai-robotModels/objects/kitchen.g')\n",
    "C.setJointState([.7], [\"l_gripper_l_finger_joint\"])"
   ]
  },
  {
   "cell_type": "code",
   "execution_count": null,
   "metadata": {},
   "outputs": [],
   "source": [
    "goal = C.addFrame(\"goal\")\n",
    "goal.setShape(ry.ST.cylinder, [0,0,.2, .03])\n",
    "goal.setColor([.5,1,1])\n",
    "goal.setPosition([1,.5,1])\n",
    "X0 = C.getFrameState()"
   ]
  },
  {
   "cell_type": "code",
   "execution_count": null,
   "metadata": {},
   "outputs": [],
   "source": [
    "C.setFrameState(X0)\n",
    "goal.setPosition([1,.5,1.2])\n",
    "IK = C.komo_IK(False)\n",
    "IK.addObjective([], type=ry.OT.eq,   feature=ry.FS.positionDiff, frames=['pr2L', 'goal'], scale=[[1,0,0],[0,1,0]])\n",
    "IK.addObjective([], type=ry.OT.ineq, feature=ry.FS.positionDiff, frames=['pr2L', 'goal'], scale=[[0,0,1]], target=[0,0,.05])\n",
    "IK.addObjective([], type=ry.OT.ineq, feature=ry.FS.positionDiff, frames=['pr2L', 'goal'], scale=[[0,0,-1]], target=[0,0,-.05])\n",
    "IK.addObjective([], type=ry.OT.sos,  feature=ry.FS.scalarProductZZ, frames=['pr2L', 'goal'], scale=[0.1])\n",
    "IK.addObjective([], type=ry.OT.eq,   feature=ry.FS.scalarProductXZ, frames=['pr2L', 'goal'])\n",
    "IK.optimize()\n",
    "C.setFrameState( IK.getFrameState(0) )\n",
    "IK.getReport()"
   ]
  },
  {
   "cell_type": "code",
   "execution_count": null,
   "metadata": {},
   "outputs": [],
   "source": []
  }
 ],
 "metadata": {
  "kernelspec": {
   "display_name": "Python 3 (ipykernel)",
   "language": "python",
   "name": "python3"
  },
  "language_info": {
   "codemirror_mode": {
    "name": "ipython",
    "version": 3
   },
   "file_extension": ".py",
   "mimetype": "text/x-python",
   "name": "python",
   "nbconvert_exporter": "python",
   "pygments_lexer": "ipython3",
   "version": "3.8.10"
  }
 },
 "nbformat": 4,
 "nbformat_minor": 4
}
