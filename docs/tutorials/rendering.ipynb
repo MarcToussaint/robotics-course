{
 "cells": [
  {
   "cell_type": "markdown",
   "id": "a7fa063a",
   "metadata": {},
   "source": [
    "# CameraView and Rendering [todo]\n",
    "\n",
    "* setting camera to frame\n",
    "* grabbing img & depth\n",
    "* converting to point clouds (and displaying)\n",
    "* generating videos by saving pngs + ffmpeg\n",
    "* realistic rendering using nvisii"
   ]
  },
  {
   "cell_type": "code",
   "execution_count": null,
   "id": "74eea0b5",
   "metadata": {},
   "outputs": [],
   "source": []
  },
  {
   "cell_type": "code",
   "execution_count": 2,
   "id": "1dba9c3b",
   "metadata": {},
   "outputs": [
    {
     "name": "stdout",
     "output_type": "stream",
     "text": [
      "0.0.22 compile time: Oct 10 2023 21:52:17\n"
     ]
    }
   ],
   "source": [
    "from robotic import ry\n",
    "print(ry.__version__, ry.compiled())"
   ]
  },
  {
   "cell_type": "code",
   "execution_count": 3,
   "id": "e9a8d544",
   "metadata": {},
   "outputs": [
    {
     "data": {
      "text/plain": [
       "0"
      ]
     },
     "execution_count": 3,
     "metadata": {},
     "output_type": "execute_result"
    }
   ],
   "source": [
    "C = ry.Config()\n",
    "C.addFile(ry.raiPath('scenarios/pandaSingle.g'))\n",
    "C.view()"
   ]
  },
  {
   "cell_type": "code",
   "execution_count": 4,
   "id": "984645b0",
   "metadata": {},
   "outputs": [],
   "source": [
    "rgb = C.view_getScreenshot()"
   ]
  },
  {
   "cell_type": "code",
   "execution_count": 8,
   "id": "979ef513",
   "metadata": {},
   "outputs": [
    {
     "data": {
      "text/plain": [
       "(400, 400, 3)"
      ]
     },
     "execution_count": 8,
     "metadata": {},
     "output_type": "execute_result"
    }
   ],
   "source": [
    "rgb.shape"
   ]
  },
  {
   "cell_type": "code",
   "execution_count": 5,
   "id": "d11cd939",
   "metadata": {},
   "outputs": [],
   "source": [
    "from IPython.display import Image, display"
   ]
  },
  {
   "cell_type": "code",
   "execution_count": 14,
   "id": "7e9a62f6",
   "metadata": {},
   "outputs": [],
   "source": [
    "from PIL import Image, ImageOps"
   ]
  },
  {
   "cell_type": "code",
   "execution_count": 15,
   "id": "f8c3d55e",
   "metadata": {},
   "outputs": [
    {
     "data": {
      "image/png": "[encoded data removed]",
      "text/plain": [
       "<PIL.Image.Image image mode=RGB size=400x400>"
      ]
     },
     "metadata": {},
     "output_type": "display_data"
    }
   ],
   "source": [
    "    img = ImageOps.flip(Image.fromarray(rgb, 'RGB'))\n",
    "    display(img)"
   ]
  },
  {
   "cell_type": "code",
   "execution_count": null,
   "id": "f37d7b8a",
   "metadata": {},
   "outputs": [],
   "source": []
  },
  {
   "cell_type": "code",
   "execution_count": null,
   "id": "b5b73522",
   "metadata": {},
   "outputs": [],
   "source": []
  },
  {
   "cell_type": "markdown",
   "id": "ae3d4e90",
   "metadata": {},
   "source": [
    "## Rendering configurations\n",
    "\n",
    "Camera images and depth are usually accessed via a simulation interface (BotOp). But we can compute images and depth also directly for a given configuration, without really creating a (physical) simulation. Here the basic approach: We can also add a frame, attached to the head, which has no shape associated to it, but create a view is associated with that frame\n",
    "TODO: Add nvisii support/export!"
   ]
  },
  {
   "cell_type": "code",
   "execution_count": null,
   "id": "1762bed5",
   "metadata": {},
   "outputs": [],
   "source": [
    "C.addFrame(name='camera', parent='head_tilt_link', args='Q:<d(-90 1 0 0) d(180 0 0 1)> focalLength:.3')\n",
    "V = C.cameraView()"
   ]
  },
  {
   "cell_type": "code",
   "execution_count": null,
   "id": "9c55a2ee",
   "metadata": {},
   "outputs": [],
   "source": [
    "Vimg = V.imageViewer()\n",
    "Vseg = V.segmentationViewer()\n",
    "Vpcl = V.pointCloudViewer()"
   ]
  },
  {
   "cell_type": "code",
   "execution_count": null,
   "id": "11b8948b",
   "metadata": {},
   "outputs": [],
   "source": [
    "V.addSensor('kinect', 'endeffKinect', 640, 480, 580./480., -1., [.1, 50.] )\n",
    "#V.addSensor(name='camera', frameAttached='camera', width=600, height=400)\n",
    "V.selectSensor('kinect')\n",
    "[image,depth] = V.computeImageAndDepth()\n",
    "seg = V.computeSegmentation()\n",
    "pcl = V.computePointCloud(depth)\n",
    "print('image shape:', image.shape)\n",
    "print('depth shape:', depth.shape)\n",
    "print('segmentation shape:', seg.shape)\n",
    "print('pcl shape:', pcl.shape)"
   ]
  },
  {
   "cell_type": "markdown",
   "id": "f3e7d2cb",
   "metadata": {},
   "source": [
    "When we move the robot, that view moves with it:"
   ]
  },
  {
   "cell_type": "code",
   "execution_count": null,
   "id": "6468ec12",
   "metadata": {},
   "outputs": [],
   "source": [
    "C.setJointState([0.5], ['head_pan_joint'])\n",
    "C.setJointState([1.], ['head_tilt_joint'])\n",
    "V.updateConfig(C)\n",
    "[image,depth] = V.computeImageAndDepth()\n",
    "pcl = V.computePointCloud(depth)"
   ]
  },
  {
   "cell_type": "markdown",
   "id": "859ffb81",
   "metadata": {},
   "source": [
    "To close a view (or destroy a handle to a computational module), we reassign it to zero. We can also remove a frame from the configuration."
   ]
  },
  {
   "cell_type": "code",
   "execution_count": null,
   "id": "cd0c1262",
   "metadata": {},
   "outputs": [],
   "source": [
    "Vimg = 0\n",
    "Vseg = 0\n",
    "Vpcl = 0\n",
    "V = 0\n",
    "C.delFrame('camera')"
   ]
  },
  {
   "cell_type": "code",
   "execution_count": null,
   "id": "2227bcf5",
   "metadata": {},
   "outputs": [],
   "source": [
    "C.view_close()"
   ]
  },
  {
   "cell_type": "code",
   "execution_count": null,
   "id": "920159c0",
   "metadata": {},
   "outputs": [],
   "source": []
  },
  {
   "cell_type": "code",
   "execution_count": null,
   "id": "26a50413",
   "metadata": {},
   "outputs": [],
   "source": []
  }
 ],
 "metadata": {
  "kernelspec": {
   "display_name": "Python 3 (ipykernel)",
   "language": "python",
   "name": "python3"
  },
  "language_info": {
   "codemirror_mode": {
    "name": "ipython",
    "version": 3
   },
   "file_extension": ".py",
   "mimetype": "text/x-python",
   "name": "python",
   "nbconvert_exporter": "python",
   "pygments_lexer": "ipython3",
   "version": "3.8.10"
  }
 },
 "nbformat": 4,
 "nbformat_minor": 5
}
