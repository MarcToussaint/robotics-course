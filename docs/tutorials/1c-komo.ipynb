{
 "cells": [
  {
   "cell_type": "markdown",
   "id": "dffc232a",
   "metadata": {},
   "source": [
    "# KOMO: Motion Optimization\n",
    "\n",
    "KOMO is a framework for designing motion by formulating optimization problems. Inverse kinematics (IK) is the special case of optimizing only over a single configuration rather than a path. Formulating KOMO problems is key to realizing motion in `rai`.\n",
    "\n",
    "This tutorial shows basics on how IK, rough waypoint optimization, and fine path optimization can be formulated as non-linear mathematical program (NLP) using KOMO. Essentially, the `addObjective` allows to add costs or constraints over any `Feature` to the NLP (same features that can be evaluated with 'C.eval')."
   ]
  },
  {
   "cell_type": "markdown",
   "id": "a177972b",
   "metadata": {},
   "source": [
    "## Minimal IK example"
   ]
  },
  {
   "cell_type": "code",
   "execution_count": 1,
   "id": "8e07bf36",
   "metadata": {},
   "outputs": [],
   "source": [
    "from robotic import ry\n",
    "import numpy as np\n",
    "import time"
   ]
  },
  {
   "cell_type": "code",
   "execution_count": 2,
   "id": "059a8ee7",
   "metadata": {},
   "outputs": [
    {
     "data": {
      "text/plain": [
       "0"
      ]
     },
     "execution_count": 2,
     "metadata": {},
     "output_type": "execute_result"
    }
   ],
   "source": [
    "C = ry.Config()\n",
    "C.addFile(ry.raiPath('scenarios/pandaSingle.g'))\n",
    "C.view()"
   ]
  },
  {
   "cell_type": "code",
   "execution_count": 3,
   "id": "582b68ba",
   "metadata": {},
   "outputs": [
    {
     "data": {
      "text/plain": [
       "0"
      ]
     },
     "execution_count": 3,
     "metadata": {},
     "output_type": "execute_result"
    }
   ],
   "source": [
    "C.addFrame('box') \\\n",
    "    .setPosition([-.25,.1,1.]) \\\n",
    "    .setShape(ry.ST.ssBox, size=[.06,.06,.06,.005]) \\\n",
    "    .setColor([1,.5,0]) \\\n",
    "    .setContact(1)\n",
    "C.view()"
   ]
  },
  {
   "cell_type": "markdown",
   "id": "ac059dc2",
   "metadata": {},
   "source": [
    "The following defines an optimization problem over a single configuration. The KOMO object essentially contains (1) a copy of the configuration(s) over which we optimize, and (2) the list of objectives (=costs & constraints) that define the optimization problem.\n",
    "\n",
    "The constructor declares over how many configurations (single, waypoints, path..) we optimize. The addObjective methods add costs or constraints:"
   ]
  },
  {
   "cell_type": "code",
   "execution_count": 4,
   "id": "bccb7b55",
   "metadata": {},
   "outputs": [],
   "source": [
    "qHome = C.getJointState()\n",
    "\n",
    "komo = ry.KOMO(C, 1, 1, 0, False)\n",
    "komo.addObjective(times=[], feature=ry.FS.jointState, frames=[], type=ry.OT.sos, scale=[1e-1], target=qHome);\n",
    "komo.addObjective([], ry.FS.positionDiff, ['l_gripper', 'box'], ry.OT.eq, [1e1]);"
   ]
  },
  {
   "cell_type": "markdown",
   "id": "76895850",
   "metadata": {},
   "source": [
    "We explain the KOMO constructor arguments later. (The above defines an IK problem.)\n",
    "\n",
    "The `addObjective` method has signature\n",
    "* times: the time intervals (subset of configurations in a path) over which this feature is active (irrelevant for IK)\n",
    "* feature: the feature symbol (see advanced `Feature` tutorial)\n",
    "* frames: the frames for which the feature is computed, given as list of frame names\n",
    "* type: whether this is a sum-of-squares (sos) cost, or eq or ineq constraint\n",
    "* scale: the matrix(!) by which the feature is multiplied\n",
    "* target: the offset which is substracted from the feature (before scaling)\n",
    "\n",
    "Please see more formal details <here - link to script!>"
   ]
  },
  {
   "cell_type": "markdown",
   "id": "9e27cfa8",
   "metadata": {},
   "source": [
    "Given this definition of an optimization problem, we can call a generic NLP solver:"
   ]
  },
  {
   "cell_type": "code",
   "execution_count": 5,
   "id": "178e3d42",
   "metadata": {},
   "outputs": [
    {
     "name": "stdout",
     "output_type": "stream",
     "text": [
      "{ time: 0.001417, evals: 6, done: 1, feasible: 1, sos: 0.00414146, f: 0, ineq: 0, eq: 0.00188382 }====nlp==== method:AugmentedLagrangian bounded: yes\n",
      "==nlp== it:0 evals:0 mu:1 nu:1 muLB:0.1\n",
      "----newton---- initial point f(x):16.0447 alpha:1 beta:1\n",
      "--newton-- it:   1  |Delta|:        0.2  alpha:          1  evals:   2  f(y):    6.55808  ACCEPT\n",
      "--newton-- it:   2  |Delta|:        0.2  alpha:          1  evals:   3  f(y):   0.686083  ACCEPT\n",
      "--newton-- it:   3  |Delta|:   0.144223  alpha:          1  evals:   4  f(y):  0.0170221  ACCEPT\n",
      "--newton-- it:   4  |Delta|:  0.0221449  alpha:          1  evals:   5  f(y): 0.00418093  ACCEPT\n",
      "--newton-- stopping: 'absMax(Delta)<options.stopTolerance'\n",
      "==nlp== it:   0  evals:   5  A(x): 0.00418093  f: 0.00414937  g:          0  h: 0.00951471  |x-x'|:   0.373024 \tstop:DeltaConverge\n",
      "==nlp== it:   1  evals:   5  A(x): 0.00437027  mu:5\n",
      "--newton-- it:   5  |Delta|: 0.00240133  alpha:          1  evals:   6  f(y): 0.00413537  ACCEPT\n",
      "--newton-- stopping: 'absMax(Delta)<options.stopTolerance'\n",
      "==nlp== it:   1  evals:   6  A(x): 0.00413537  f: 0.00414146  g:          0  h: 0.00188382  |x-x'|: 0.00240133 \tstop:\n",
      "DeltaConverge\n",
      "==nlp== StoppingCriterion Delta<0.01\n",
      "----newton---- final f(x):0.00413537\n"
     ]
    }
   ],
   "source": [
    "ret = ry.NLP_Solver(komo.nlp(), verbose=4) .solve()\n",
    "print(ret)"
   ]
  },
  {
   "cell_type": "markdown",
   "id": "5481e8b8",
   "metadata": {},
   "source": [
    "With this high verbosity, individual newton steps and Augmented Lagrangian outer loops are displayed (we need only very few steps here).\n",
    "\n",
    "The KOMO view displays the optimized configuration(s) stored by KOMO. (For paths, this is an overlay of many configurations. For IK, just one.):"
   ]
  },
  {
   "cell_type": "code",
   "execution_count": 6,
   "id": "b727e37c",
   "metadata": {},
   "outputs": [
    {
     "data": {
      "text/plain": [
       "0"
      ]
     },
     "execution_count": 6,
     "metadata": {},
     "output_type": "execute_result"
    }
   ],
   "source": [
    "komo.view(False, \"IK solution\")"
   ]
  },
  {
   "cell_type": "markdown",
   "id": "10840e1f",
   "metadata": {},
   "source": [
    "We can get the sequence of joint state vectors for the optimized configuration(s) with `getPath`. Since this is only an IK problem, the sequence contains only the joint state vector for the single optimized configuration:"
   ]
  },
  {
   "cell_type": "code",
   "execution_count": 7,
   "id": "5adc15f8",
   "metadata": {},
   "outputs": [
    {
     "name": "stdout",
     "output_type": "stream",
     "text": [
      "<class 'numpy.ndarray'> 1\n"
     ]
    }
   ],
   "source": [
    "q = komo.getPath()\n",
    "print(type(q), len(q))"
   ]
  },
  {
   "cell_type": "markdown",
   "id": "9f92e896",
   "metadata": {},
   "source": [
    "We're done with KOMO and can destroy it. Then set the optimal joint state in C and view it:"
   ]
  },
  {
   "cell_type": "code",
   "execution_count": 8,
   "id": "b20fc581",
   "metadata": {},
   "outputs": [
    {
     "data": {
      "text/plain": [
       "86"
      ]
     },
     "execution_count": 8,
     "metadata": {},
     "output_type": "execute_result"
    }
   ],
   "source": [
    "del komo #also closes komo view\n",
    "C.setJointState(q[0])\n",
    "C.view()"
   ]
  },
  {
   "cell_type": "markdown",
   "id": "57ccf739",
   "metadata": {},
   "source": [
    "## Example for more constraints: box grasping IK\n",
    "\n",
    "The key to design motions is to add clever constraints. Here is an example for more realistic box grasping:"
   ]
  },
  {
   "cell_type": "code",
   "execution_count": 9,
   "id": "bdbbbe7b",
   "metadata": {},
   "outputs": [],
   "source": [
    "komo = ry.KOMO(C, 1,1,0, True)\n",
    "komo.addObjective([], ry.FS.jointState, [], ry.OT.sos, [1e-1], qHome)\n",
    "komo.addObjective([], ry.FS.accumulatedCollisions, [], ry.OT.eq)\n",
    "komo.addObjective([], ry.FS.jointLimits, [], ry.OT.ineq)\n",
    "komo.addObjective([], ry.FS.positionDiff, ['l_gripper', 'box'], ry.OT.eq, [1e1])\n",
    "komo.addObjective([], ry.FS.scalarProductXX, ['l_gripper', 'box'], ry.OT.eq, [1e1], [0])\n",
    "komo.addObjective([], ry.FS.scalarProductXZ, ['l_gripper', 'box'], ry.OT.eq, [1e1], [0])\n",
    "komo.addObjective([], ry.FS.distance, ['l_palm', 'box'], ry.OT.ineq, [1e1])"
   ]
  },
  {
   "cell_type": "markdown",
   "id": "de8fe5b5",
   "metadata": {},
   "source": [
    "The two `scalarProduct` feature state that the gripper x-axis (which is the axis connecting the fingers) should be orthogonal to the object x- and z-axes. That implies fingers to normally oppose the object's y-planes.\n",
    "\n",
    "Note that grasping could also be opposing the object x- or z- planes -- see below. Let solve it and then set the joint state to the solution:"
   ]
  },
  {
   "cell_type": "code",
   "execution_count": 11,
   "id": "dab4fbee",
   "metadata": {},
   "outputs": [
    {
     "name": "stdout",
     "output_type": "stream",
     "text": [
      "{ time: 0.001427, evals: 3, done: 1, feasible: 1, sos: 0.00551937, f: 0, ineq: 0, eq: 0.000566221 }\n",
      "-- Always check feasibility flag of NLP solver return\n"
     ]
    }
   ],
   "source": [
    "ret = ry.NLP_Solver(komo.nlp(), verbose=0 ) .solve()\n",
    "print(ret)\n",
    "if ret.feasible:\n",
    "    print('-- Always check feasibility flag of NLP solver return')\n",
    "else:\n",
    "    print('-- THIS IS INFEASIBLE!')"
   ]
  },
  {
   "cell_type": "code",
   "execution_count": 12,
   "id": "f1970bb1",
   "metadata": {},
   "outputs": [
    {
     "data": {
      "text/plain": [
       "13"
      ]
     },
     "execution_count": 12,
     "metadata": {},
     "output_type": "execute_result"
    }
   ],
   "source": [
    "q = komo.getPath()\n",
    "C.setJointState(q[0])\n",
    "C.view(False, \"IK solution\")"
   ]
  },
  {
   "cell_type": "markdown",
   "id": "bef1a139",
   "metadata": {},
   "source": [
    "Reusing the KOMO instance is ok if some aspect of the configuration changes and you want to resolve the same problem:"
   ]
  },
  {
   "cell_type": "code",
   "execution_count": 15,
   "id": "a2d386d6",
   "metadata": {},
   "outputs": [
    {
     "name": "stdout",
     "output_type": "stream",
     "text": [
      "{ time: 0.028821, evals: 70, done: 1, feasible: 1, sos: 0.038482, f: 0, ineq: 0, eq: 0.0689135 }\n",
      "{ time: 0.030648, evals: 57, done: 1, feasible: 1, sos: 0.0228804, f: 0, ineq: 0, eq: 0.000608482 }\n",
      "{ time: 0.016176, evals: 23, done: 1, feasible: 1, sos: 0.0184499, f: 0, ineq: 0, eq: 0.000537333 }\n",
      "{ time: 0.023501, evals: 70, done: 1, feasible: 1, sos: 0.0298244, f: 0, ineq: 0, eq: 0.000128193 }\n",
      "{ time: 0.043527, evals: 76, done: 1, feasible: 1, sos: 0.0325442, f: 0, ineq: 0, eq: 0.000223303 }\n",
      "{ time: 0.013276, evals: 21, done: 1, feasible: 1, sos: 0.0597724, f: 0, ineq: 0, eq: 0.00114935 }\n",
      "{ time: 0.029548, evals: 52, done: 1, feasible: 1, sos: 0.0106994, f: 0, ineq: 0, eq: 0.000153658 }\n",
      "{ time: 0.004645, evals: 8, done: 1, feasible: 1, sos: 0.0140415, f: 0, ineq: 0, eq: 0.00139689 }\n",
      "{ time: 0.012348, evals: 16, done: 1, feasible: 1, sos: 0.00865087, f: 0, ineq: 0, eq: 0.000584601 }\n",
      "{ time: 0.01036, evals: 14, done: 1, feasible: 1, sos: 0.0232755, f: 0, ineq: 0, eq: 0.000568126 }\n"
     ]
    }
   ],
   "source": [
    "box = C.getFrame('box')\n",
    "box.setPosition([-.25,.1,1.])\n",
    "p0 = box.getPosition() # memory the start box position\n",
    "\n",
    "for t in range(10):\n",
    "    box.setPosition(p0 + .2 * np.random.randn(3)) # randomize box position\n",
    "    komo.updateRootObjects(C) # only works for root objects (the 'box' is one)\n",
    "    ret = ry.NLP_Solver(komo.nlp(), verbose=0 ) .solve()\n",
    "    print(ret)\n",
    "    q = komo.getPath()\n",
    "    C.setJointState(q[0])\n",
    "    C.view(False, 'IK solution - ' + ('*** INFEASIBLE ***' if not ret.feasible else 'feasible'))\n",
    "    time.sleep(1.)"
   ]
  },
  {
   "cell_type": "markdown",
   "id": "c0e78a35",
   "metadata": {},
   "source": [
    "So the solver finds feasible grasps and exploits the null space of the constraints (grasps from different directions, but always opposing the y-planes).\n",
    "\n",
    "To make this proper, we should actually test all three possible grasps - so let's define 3 IK problems, solve each, and pick the best:"
   ]
  },
  {
   "cell_type": "code",
   "execution_count": 16,
   "id": "8222658d",
   "metadata": {},
   "outputs": [],
   "source": [
    "del komo\n",
    "komo = []\n",
    "for k in range(3):\n",
    "    komo.append(ry.KOMO(C, 1,1,0, True))\n",
    "    komo[k].addObjective([], ry.FS.jointState, [], ry.OT.sos, [1e-1], qHome)\n",
    "    komo[k].addObjective([], ry.FS.accumulatedCollisions, [], ry.OT.eq)\n",
    "    komo[k].addObjective([], ry.FS.jointLimits, [], ry.OT.ineq)\n",
    "    komo[k].addObjective([], ry.FS.positionDiff, ['l_gripper', 'box'], ry.OT.eq, [1e1])\n",
    "    komo[k].addObjective([], ry.FS.distance, ['l_palm', 'box'], ry.OT.ineq, [1e1])\n",
    "\n",
    "komo[0].addObjective([], ry.FS.scalarProductXY, ['l_gripper', 'box'], ry.OT.eq, [1e1], [0])\n",
    "komo[0].addObjective([], ry.FS.scalarProductXZ, ['l_gripper', 'box'], ry.OT.eq, [1e1], [0])\n",
    "\n",
    "komo[1].addObjective([], ry.FS.scalarProductXX, ['l_gripper', 'box'], ry.OT.eq, [1e1], [0])\n",
    "komo[1].addObjective([], ry.FS.scalarProductXZ, ['l_gripper', 'box'], ry.OT.eq, [1e1], [0])\n",
    "\n",
    "komo[2].addObjective([], ry.FS.scalarProductXX, ['l_gripper', 'box'], ry.OT.eq, [1e1], [0])\n",
    "komo[2].addObjective([], ry.FS.scalarProductXY, ['l_gripper', 'box'], ry.OT.eq, [1e1], [0])"
   ]
  },
  {
   "cell_type": "code",
   "execution_count": 18,
   "id": "09c7a057",
   "metadata": {},
   "outputs": [],
   "source": [
    "for t in range(10):\n",
    "    box.setPosition(p0 + .2 * np.random.randn(3))\n",
    "    box.setQuaternion(np.random.randn(4)) # also set random orientation (quaternions get internally normalized)\n",
    "    \n",
    "    score = []\n",
    "    for k in range(3):\n",
    "        komo[k].updateRootObjects(C)\n",
    "        ret = ry.NLP_Solver(komo[k].nlp(), verbose=0 ) .solve()\n",
    "        score.append( 100.*(ret.eq+ret.ineq) + ret.sos )\n",
    "        \n",
    "    k = np.argmin(score)\n",
    "    C.setJointState(komo[k].getPath()[0])\n",
    "    C.view(False, f'IK solution {k} - ' + ('*** INFEASIBLE ***' if not ret.feasible else 'feasible'))\n",
    "    time.sleep(1.)"
   ]
  },
  {
   "cell_type": "code",
   "execution_count": 19,
   "id": "cda905f5",
   "metadata": {},
   "outputs": [],
   "source": [
    "del komo\n",
    "del C"
   ]
  },
  {
   "cell_type": "markdown",
   "id": "f7d69b02",
   "metadata": {},
   "source": [
    "## Waypoints example\n",
    "\n",
    "Motion design can often be done by computing waypoints, i.e. a none-fine-resolution sequence of poses. The BotOp interface can then spline-interpolate between them when executing them.\n",
    "\n",
    "Let's define a configuration where the desired gripper waypoints are pre-defined as marker frames. (That's a common pattern: Simplify defining constraints by adding helper reference frames in the configuration.)"
   ]
  },
  {
   "cell_type": "code",
   "execution_count": 20,
   "id": "a6da9bda",
   "metadata": {},
   "outputs": [
    {
     "data": {
      "text/plain": [
       "0"
      ]
     },
     "execution_count": 20,
     "metadata": {},
     "output_type": "execute_result"
    }
   ],
   "source": [
    "C = ry.Config()\n",
    "C.addFile(ry.raiPath('scenarios/pandaSingle.g'))\n",
    "C.addFrame('way1'). setShape(ry.ST.marker, [.1]) .setPosition([.4, .2, 1.])\n",
    "C.addFrame('way2'). setShape(ry.ST.marker, [.1]) .setPosition([.4, .2, 1.4])\n",
    "C.addFrame('way3'). setShape(ry.ST.marker, [.1]) .setPosition([-.4, .2, 1.])\n",
    "C.addFrame('way4'). setShape(ry.ST.marker, [.1]) .setPosition([-.4, .2, 1.4])\n",
    "C.view()"
   ]
  },
  {
   "cell_type": "markdown",
   "id": "53a2b1c8",
   "metadata": {},
   "source": [
    "Now we can define a KOMO problem over 4 configurations, where at each configuration we impose position equality between gripper and a waypoint:"
   ]
  },
  {
   "cell_type": "code",
   "execution_count": 26,
   "id": "7c3a74d2",
   "metadata": {},
   "outputs": [
    {
     "name": "stdout",
     "output_type": "stream",
     "text": [
      "{ time: 0.003007, evals: 16, done: 1, feasible: 1, sos: 3.21288, f: 0, ineq: 0, eq: 0.00032909 }\n",
      "[[-0.20663586 -0.13496344 -0.59776524 -2.2035971   0.10594295  2.36732289\n",
      "  -0.49784157]\n",
      " [-0.15109084 -0.45181027 -0.52787726 -1.83940161  0.14530834  2.50834388\n",
      "  -0.49779615]\n",
      " [ 0.56312916 -0.11031886  0.1834559  -2.19559066  0.23492054  2.34642298\n",
      "  -0.49775775]\n",
      " [ 0.56235883 -0.38646533  0.16337372 -1.83209628  0.23679226  2.4918878\n",
      "  -0.49773599]]\n"
     ]
    }
   ],
   "source": [
    "komo = ry.KOMO(C, phases=4, slicesPerPhase=1, kOrder=1, enableCollisions=False)\n",
    "komo.addControlObjective([], 0, 1e-1)\n",
    "komo.addControlObjective([], 1, 1e0)\n",
    "komo.addObjective([1], ry.FS.positionDiff, ['l_gripper', 'way1'], ry.OT.eq, [1e1])\n",
    "komo.addObjective([2], ry.FS.positionDiff, ['l_gripper', 'way2'], ry.OT.eq, [1e1])\n",
    "komo.addObjective([3], ry.FS.positionDiff, ['l_gripper', 'way3'], ry.OT.eq, [1e1])\n",
    "komo.addObjective([4], ry.FS.positionDiff, ['l_gripper', 'way4'], ry.OT.eq, [1e1])\n",
    "\n",
    "ret = ry.NLP_Solver(komo.nlp(), verbose=0 ) .solve()\n",
    "print(ret)\n",
    "q = komo.getPath()\n",
    "print(q)\n",
    "\n",
    "for t in range(len(q)):\n",
    "    C.setJointState(q[t])\n",
    "    C.view(False, f'waypoint {t}')\n",
    "    time.sleep(1)"
   ]
  },
  {
   "cell_type": "markdown",
   "id": "f6263d5c",
   "metadata": {},
   "source": [
    "The `KOMO constructor` has arguments:\n",
    "* config: the configuration, which is copied once (for IK) or many times (for waypoints/paths) to be the optimization variable\n",
    "* phases: the number P of phases (which essentially defines the real-valued interval [0,P] over which objectives can be formulated)\n",
    "* slicesPerPhase: the discretizations per phase -> in total we have phases*slicesPerPhases configurations which form the path and over which we optimize\n",
    "* kOrder: the \"Markov-order\", i.e., maximal tuple of configurations over which we formulate features (e.g. take finite differences)\n",
    "\n",
    "In our waypoint case: We have 4 phases, one for each waypoint. We don't sub-sample the motion between waypoints, which is why we have slicesPerPhase=1. We formulate this as a 1-order problem: Some features take the finite difference between consecutive configurations (namely, to penalize velocities).\n",
    "\n",
    "The `addControlObjective` is *almost* the same as adding a `FS.jointState` objective: It penalizes distances in joint space. It has three arguments:\n",
    "* times: (as for `addObjective`) the phase-interval in which this objective holds; [] means all times\n",
    "* order: Do we penalize the jointState directly (order=0: penalizing sqr distance to qHome, order=1: penalizing sqr distances between consecutive configurations (velocities), order=2: penalizing accelerations across 3 configurations)\n",
    "* scale: as usual, but modulated by a factor \"sqrt(delta t)\" that somehow ensures total control costs in approximately independent of the choice of stepsPerPhase\n",
    "\n",
    "In our waypoint case: We add control costs for both: homing (order 0, ensuring to stay close to homing), and velocities (order 1, penalizing movement between waypoints)\n",
    "\n",
    "And the `addObjective` method now makes use of `times` argument: Specifying [1] means that this objective only holds in the interval [1,1], i.e. at phase-time 1 only."
   ]
  },
  {
   "cell_type": "markdown",
   "id": "132f82a0",
   "metadata": {},
   "source": [
    "## Path example\n",
    "\n",
    "Let's do almost the same, but for a fine path. First order=1, leading to zig-zag, then order=2, leading to smooth path."
   ]
  },
  {
   "cell_type": "code",
   "execution_count": 27,
   "id": "dd21ae9e",
   "metadata": {},
   "outputs": [
    {
     "name": "stdout",
     "output_type": "stream",
     "text": [
      "{ time: 0.009121, evals: 11, done: 1, feasible: 1, sos: 2.51961, f: 0, ineq: 0, eq: 0.00173899 }\n",
      "size of path: (40, 7)\n"
     ]
    }
   ],
   "source": [
    "# Note, the slicesPerPhase=10 is the only difference to above\n",
    "C.setJointState(qHome)\n",
    "komo = ry.KOMO(C, 4, 10, 1, False)\n",
    "komo.addControlObjective([], 0, 1e-1) # what happens if you change weighting to 1e0? why?\n",
    "komo.addControlObjective([], 1, 1e0)\n",
    "komo.addObjective([1], ry.FS.positionDiff, ['l_gripper', 'way1'], ry.OT.eq, [1e1])\n",
    "komo.addObjective([2], ry.FS.positionDiff, ['l_gripper', 'way2'], ry.OT.eq, [1e1])\n",
    "komo.addObjective([3], ry.FS.positionDiff, ['l_gripper', 'way3'], ry.OT.eq, [1e1])\n",
    "komo.addObjective([4], ry.FS.positionDiff, ['l_gripper', 'way4'], ry.OT.eq, [1e1])\n",
    "\n",
    "ret = ry.NLP_Solver(komo.nlp(), verbose=0 ) .solve()\n",
    "print(ret)\n",
    "q = komo.getPath()\n",
    "print('size of path:', q.shape)\n",
    "\n",
    "for t in range(q.shape[0]):\n",
    "    C.setJointState(q[t])\n",
    "    C.view(False, f'waypoint {t}')\n",
    "    time.sleep(.1)"
   ]
  },
  {
   "cell_type": "code",
   "execution_count": 28,
   "id": "40341e34",
   "metadata": {},
   "outputs": [
    {
     "name": "stdout",
     "output_type": "stream",
     "text": [
      "{ time: 0.034008, evals: 25, done: 1, feasible: 1, sos: 16.5172, f: 0, ineq: 0, eq: 0.000773995 }\n",
      "size of path: (40, 7)\n"
     ]
    }
   ],
   "source": [
    "# only differences: the kOrder=2, control objective order 2, constrain final jointState velocity to zero\n",
    "C.setJointState(qHome)\n",
    "komo = ry.KOMO(C, 4, 10, 2, False)\n",
    "komo.addControlObjective([], 0, 1e-1) # what happens if you change weighting to 1e0? why?\n",
    "komo.addControlObjective([], 2, 1e0)\n",
    "komo.addObjective([1], ry.FS.positionDiff, ['l_gripper', 'way1'], ry.OT.eq, [1e1])\n",
    "komo.addObjective([2], ry.FS.positionDiff, ['l_gripper', 'way2'], ry.OT.eq, [1e1])\n",
    "komo.addObjective([3], ry.FS.positionDiff, ['l_gripper', 'way3'], ry.OT.eq, [1e1])\n",
    "komo.addObjective([4], ry.FS.positionDiff, ['l_gripper', 'way4'], ry.OT.eq, [1e1])\n",
    "komo.addObjective([4], ry.FS.jointState, [], ry.OT.eq, [1e1], [], order=1)\n",
    "\n",
    "ret = ry.NLP_Solver(komo.nlp(), verbose=0 ) .solve()\n",
    "print(ret)\n",
    "q = komo.getPath()\n",
    "print('size of path:', q.shape)\n",
    "\n",
    "for t in range(q.shape[0]):\n",
    "    C.setJointState(q[t])\n",
    "    C.view(False, f'waypoint {t}')\n",
    "    time.sleep(.1)"
   ]
  },
  {
   "cell_type": "markdown",
   "id": "154ea039",
   "metadata": {},
   "source": [
    "Notice the new last objective! Without it, *final velocity* would not be zero. The last objective constrains the order=1 (i.e. velocity!) of the jointState feature to be zero.\n",
    "\n",
    "Let's plot the trajectory:"
   ]
  },
  {
   "cell_type": "code",
   "execution_count": 29,
   "id": "3d47d887",
   "metadata": {},
   "outputs": [
    {
     "data": {
      "image/png": "[encoded data removed]",
      "text/plain": [
       "<Figure size 640x480 with 1 Axes>"
      ]
     },
     "metadata": {},
     "output_type": "display_data"
    }
   ],
   "source": [
    "import matplotlib.pyplot as plt\n",
    "plt.plot(q)\n",
    "plt.show()"
   ]
  },
  {
   "cell_type": "code",
   "execution_count": 30,
   "id": "08aacd1a",
   "metadata": {},
   "outputs": [],
   "source": [
    "del C"
   ]
  },
  {
   "cell_type": "code",
   "execution_count": null,
   "id": "c209e80b",
   "metadata": {},
   "outputs": [],
   "source": []
  }
 ],
 "metadata": {
  "kernelspec": {
   "display_name": "Python 3 (ipykernel)",
   "language": "python",
   "name": "python3"
  },
  "language_info": {
   "codemirror_mode": {
    "name": "ipython",
    "version": 3
   },
   "file_extension": ".py",
   "mimetype": "text/x-python",
   "name": "python",
   "nbconvert_exporter": "python",
   "pygments_lexer": "ipython3",
   "version": "3.8.10"
  }
 },
 "nbformat": 4,
 "nbformat_minor": 5
}
