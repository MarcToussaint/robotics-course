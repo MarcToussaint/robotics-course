{
 "cells": [
  {
   "cell_type": "markdown",
   "metadata": {},
   "source": [
    "# Configurations\n",
    "\n",
    "A configuration is essentially a tree of (coordinate) frames, where each frame can have an associated shape, joint, inertia, etc. This tutorial introduces first steps to creating & loading configurations in rai, setting/getting the joint and frame state, computing features, and handling the view window.\n",
    "\n",
    "Please see the [Script:Configurations](https://marctoussaint.github.io/robotics-course/script/script.html#scene-robot-description) of configurations and degrees-of-freedom."
   ]
  },
  {
   "cell_type": "markdown",
   "metadata": {},
   "source": [
    "## Building a configuration from scratch\n",
    "\n",
    "Let's first build a configuration from scratch by adding frames and setting properties such as pose, shape and parentship of frames."
   ]
  },
  {
   "cell_type": "code",
   "execution_count": 1,
   "metadata": {},
   "outputs": [
    {
     "name": "stdout",
     "output_type": "stream",
     "text": [
      "version: 0.0.22 compile time: Oct 10 2023 22:38:22\n"
     ]
    }
   ],
   "source": [
    "from robotic import ry\n",
    "import numpy as np\n",
    "import time\n",
    "print('version:', ry.__version__, ry.compiled())"
   ]
  },
  {
   "cell_type": "markdown",
   "metadata": {},
   "source": [
    "The following creates an empty configuration, and opens a view window for it.\n",
    "\n",
    "Tip: Make the view window appear \"Always On Top\" (right click on the window bar)."
   ]
  },
  {
   "cell_type": "code",
   "execution_count": 2,
   "metadata": {},
   "outputs": [
    {
     "data": {
      "text/plain": [
       "0"
      ]
     },
     "execution_count": 2,
     "metadata": {},
     "output_type": "execute_result"
    }
   ],
   "source": [
    "C = ry.Config()\n",
    "C.view()"
   ]
  },
  {
   "cell_type": "markdown",
   "metadata": {},
   "source": [
    "A configuration is essentially a tree (or forrest) of frames. Let's add a frame and set positions manually. We declare it a **marker** frame, which means it has no real shape, but is displayed using its base vectors in the view."
   ]
  },
  {
   "cell_type": "code",
   "execution_count": 3,
   "metadata": {},
   "outputs": [
    {
     "name": "stdout",
     "output_type": "stream",
     "text": [
      "frame name: first pos: [0.  0.  0.5] quat: [0.95782629 0.28734789 0.         0.        ]\n"
     ]
    },
    {
     "data": {
      "text/plain": [
       "0"
      ]
     },
     "execution_count": 3,
     "metadata": {},
     "output_type": "execute_result"
    }
   ],
   "source": [
    "C.clear()\n",
    "f = C.addFrame(name='first')\n",
    "f.setShape(type=ry.ST.marker, size=[.3])\n",
    "f.setPosition([0.,0.,.5])\n",
    "f.setQuaternion([1., .3, .0, .0]) # more about quaternions below\n",
    "print('frame name:', f.name, 'pos:', f.getPosition(), 'quat:', f.getQuaternion())\n",
    "C.view()"
   ]
  },
  {
   "cell_type": "markdown",
   "metadata": {},
   "source": [
    "Let's add a second frame, but with first as parent and with a hinge joint!"
   ]
  },
  {
   "cell_type": "code",
   "execution_count": 4,
   "metadata": {},
   "outputs": [
    {
     "name": "stdout",
     "output_type": "stream",
     "text": [
      "frame name: second pos: [0.  0.  0.5] quat: [-0.95782629 -0.28734789 -0.         -0.        ]\n"
     ]
    },
    {
     "data": {
      "text/plain": [
       "0"
      ]
     },
     "execution_count": 4,
     "metadata": {},
     "output_type": "execute_result"
    }
   ],
   "source": [
    "f = C.addFrame(name='second', parent='first')\n",
    "f.setJoint(ry.JT.hingeX)\n",
    "f.setShape(type=ry.ST.marker, size=[.4])\n",
    "f.setColor([1,0,0])\n",
    "print('frame name:', f.name, 'pos:', f.getPosition(), 'quat:', f.getQuaternion())\n",
    "C.view()"
   ]
  },
  {
   "cell_type": "markdown",
   "metadata": {},
   "source": [
    "Since we now have a configuration with a joint, we can articulate it:"
   ]
  },
  {
   "cell_type": "code",
   "execution_count": 5,
   "metadata": {},
   "outputs": [
    {
     "name": "stdout",
     "output_type": "stream",
     "text": [
      "joint state: [0.2]\n"
     ]
    },
    {
     "data": {
      "text/plain": [
       "0"
      ]
     },
     "execution_count": 5,
     "metadata": {},
     "output_type": "execute_result"
    }
   ],
   "source": [
    "q = C.getJointState()\n",
    "q[0] = q[0] + .2\n",
    "C.setJointState(q)\n",
    "print('joint state:', q)\n",
    "C.view()"
   ]
  },
  {
   "cell_type": "markdown",
   "metadata": {},
   "source": [
    "For illustration, let's add various other child frames with shapes to the 'second' frame and animate it with a trivial loop:"
   ]
  },
  {
   "cell_type": "code",
   "execution_count": 6,
   "metadata": {},
   "outputs": [],
   "source": [
    "C.addFrame('ball', 'second') .setShape(ry.ST.sphere, [.1]) .setColor([1.,.5,.0]) .setRelativePosition([-.3,.0,.2])\n",
    "C.addFrame('box', 'second') .setShape(ry.ST.ssBox, [.3,.2,.1,.02]) .setColor([.5,1.,.0]) .setRelativePosition([.0,.0,.2])\n",
    "C.addFrame('capsule', 'second') .setShape(ry.ST.capsule, [.3, .05]) .setColor([.0,1.,.5]) .setRelativePosition([.3,.0,.2])\n",
    "for t in range(100):\n",
    "    C.setJointState([np.cos(.1*t)])\n",
    "    C.view()\n",
    "    time.sleep(.1)"
   ]
  },
  {
   "cell_type": "markdown",
   "metadata": {},
   "source": [
    "The following lists all predefined shape types:"
   ]
  },
  {
   "cell_type": "code",
   "execution_count": 7,
   "metadata": {},
   "outputs": [
    {
     "data": {
      "text/plain": [
       "dict_keys(['none', 'box', 'sphere', 'capsule', 'mesh', 'cylinder', 'marker', 'pointCloud', 'ssCvx', 'ssBox', 'ssCylinder', 'ssBoxElip', 'quad', 'camera', 'sdf'])"
      ]
     },
     "execution_count": 7,
     "metadata": {},
     "output_type": "execute_result"
    }
   ],
   "source": [
    "ry.ST.__members__.keys()"
   ]
  },
  {
   "cell_type": "markdown",
   "metadata": {},
   "source": [
    "For most of these, the `size` fully specifies them (box: 3 widths, sphere: radius, capsule: [length radius], cylinder: [length radius], marker: [axes lengths]). The `ssBox` is a sphere-swept-Box with a 4D size: [3 widths, corner radius], which is used a lot. Also mesh shapes can be set manually from python (`setMesh`) by directly giving vertex and triangle arrays. `ssCvx` means sphere-swept convex mesh, which is specified by a mesh and 1D size (radius), and also a very useful shape type."
   ]
  },
  {
   "cell_type": "markdown",
   "metadata": {},
   "source": [
    "Let's also briefly list the possible joint types:"
   ]
  },
  {
   "cell_type": "code",
   "execution_count": 8,
   "metadata": {},
   "outputs": [
    {
     "data": {
      "text/plain": [
       "dict_keys(['hingeX', 'hingeY', 'hingeZ', 'transX', 'transY', 'transZ', 'transXY', 'trans3', 'transXYPhi', 'transYPhi', 'universal', 'rigid', 'quatBall', 'phiTransXY', 'XBall', 'free', 'generic', 'tau'])"
      ]
     },
     "execution_count": 8,
     "metadata": {},
     "output_type": "execute_result"
    }
   ],
   "source": [
    "ry.JT.__members__.keys()"
   ]
  },
  {
   "cell_type": "markdown",
   "metadata": {},
   "source": [
    "Please see the [Script:Kinematics](https://marctoussaint.github.io/robotics-course/script/script.html#kinematics) on the basics of such joints (=parameterized transformations). The `quatBall` perhaps deserves special explanation: it realizes a ball joint by introducing the 4D quaternion as joint state - this sometimes requires special attention. But the rai code implements correct Jacobians (accounting also for implicit normalization) w.r.t. the quaternion parameterization. The `free` joint is a 7D joint with 3D position and `quatBall`."
   ]
  },
  {
   "cell_type": "markdown",
   "metadata": {},
   "source": [
    "## Specifying transformations: Quaternions & turtle strings\n",
    "\n",
    "See the [Script:Transformations](https://marctoussaint.github.io/robotics-course/script/script.html#d-transformations-rotations-quaternions) on background on 3D transformations, rotations, and quaternions. We use the (w,x,y,z) convention for quaternions. Whenever you set a quaternion manually, it is internally normalized. So setting a quaterniong (1,1,0,0) is totally fine and means 90-degrees around x:"
   ]
  },
  {
   "cell_type": "code",
   "execution_count": 9,
   "metadata": {},
   "outputs": [
    {
     "data": {
      "text/plain": [
       "0"
      ]
     },
     "execution_count": 9,
     "metadata": {},
     "output_type": "execute_result"
    }
   ],
   "source": [
    "C.clear()\n",
    "C.addFrame('A') .setShape(ry.ST.marker, [.3]) .setPosition([0.,0.,.5]) .setQuaternion([1., 1., .0, .0])\n",
    "C.view()"
   ]
  },
  {
   "cell_type": "markdown",
   "metadata": {},
   "source": [
    "But to specify transformations as a human, it is easier to use what I call turtle commands: a string of 'translate', 'rotate' commands that is sequenced to define a transformation:"
   ]
  },
  {
   "cell_type": "code",
   "execution_count": 10,
   "metadata": {},
   "outputs": [
    {
     "data": {
      "text/plain": [
       "0"
      ]
     },
     "execution_count": 10,
     "metadata": {},
     "output_type": "execute_result"
    }
   ],
   "source": [
    "C.clear()\n",
    "f = C.addFrame('A') .setShape(ry.ST.marker, [.3])\n",
    "f.setPose('t(0 0 .5) d(30 1 0 0) t(0 0 .5) d(30 1 0 0)') #t=translate, #d=rotate-by-degrees around axis\n",
    "C.view()"
   ]
  },
  {
   "cell_type": "markdown",
   "metadata": {},
   "source": [
    "Also rpy-Euler angles `E`, rotation-by-radians `r`, and quaternions `q` can be used in turtle strings."
   ]
  },
  {
   "cell_type": "markdown",
   "metadata": {},
   "source": [
    "## Loading existing configurations\n",
    "\n",
    "You will usually load predefined configurations from file, and then perhaps edit and combine them manually. The rai package has several robot models predefined and installed in the `raiPath`. They typically have the `.g`-file extension (see [Script:gFiles](https://marctoussaint.github.io/robotics-course/script/script.html#graph-yaml-files) on this file format, which is a yaml-conform graph file). Converting from URDF to configuration files is possible (see advanced tutorial)."
   ]
  },
  {
   "cell_type": "code",
   "execution_count": 11,
   "metadata": {},
   "outputs": [
    {
     "data": {
      "text/plain": [
       "0"
      ]
     },
     "execution_count": 11,
     "metadata": {},
     "output_type": "execute_result"
    }
   ],
   "source": [
    "C.clear()\n",
    "C.addFile(ry.raiPath('panda/panda.g'))\n",
    "C.view()"
   ]
  },
  {
   "cell_type": "markdown",
   "metadata": {},
   "source": [
    "Let's add a second panda, but to avoid frame name conflicts we prefix all frame names. That's often important when importing multiple models into a single configuration. The can then also move the second robot simply by redefining the position of its base frame."
   ]
  },
  {
   "cell_type": "code",
   "execution_count": 12,
   "metadata": {},
   "outputs": [
    {
     "data": {
      "text/plain": [
       "0"
      ]
     },
     "execution_count": 12,
     "metadata": {},
     "output_type": "execute_result"
    }
   ],
   "source": [
    "C.addFile(ry.raiPath('panda/panda.g'), 'r_')\n",
    "base_r = C.getFrame('r_panda_base')\n",
    "base_r.setPosition([.0, .5, .0])\n",
    "C.view()"
   ]
  },
  {
   "cell_type": "markdown",
   "metadata": {},
   "source": [
    "These models have several joints. We can get the joint state of the full configuration:"
   ]
  },
  {
   "cell_type": "code",
   "execution_count": 13,
   "metadata": {},
   "outputs": [
    {
     "name": "stdout",
     "output_type": "stream",
     "text": [
      "[ 0.   -1.    0.   -2.    0.    2.    0.    0.05  0.   -1.    0.   -2.\n",
      "  0.    2.    0.    0.05]\n",
      "joints: ['panda_joint1', 'panda_joint2', 'panda_joint3', 'panda_joint4', 'panda_joint5', 'panda_joint6', 'panda_joint7', 'panda_finger_joint1panda_finger_joint2', 'r_panda_joint1', 'r_panda_joint2', 'r_panda_joint3', 'r_panda_joint4', 'r_panda_joint5', 'r_panda_joint6', 'r_panda_joint7', 'r_panda_finger_joint1r_panda_finger_joint2']\n",
      "frames: ['panda_base', 'panda_link0', 'panda_link0_0', 'panda_joint1_origin', 'panda_joint1', 'panda_link1', 'panda_link1_0', 'panda_joint2_origin', 'panda_joint2', 'panda_link2', 'panda_link2_0', 'panda_joint3_origin', 'panda_joint3', 'panda_link3', 'panda_link3_0', 'panda_joint4_origin', 'panda_joint4', 'panda_link4', 'panda_link4_0', 'panda_joint5_origin', 'panda_joint5', 'panda_link5', 'panda_link5_0', 'panda_joint6_origin', 'panda_joint6', 'panda_link6', 'panda_link6_0', 'panda_joint7_origin', 'panda_joint7', 'panda_link7', 'panda_link7_0', 'panda_joint8_origin', 'panda_joint8', 'panda_link8', 'panda_hand_joint_origin', 'panda_hand_joint', 'panda_hand', 'panda_hand_0', 'panda_finger_joint1_origin', 'panda_finger_joint2_origin', 'panda_finger_joint1', 'panda_finger_joint2', 'panda_leftfinger', 'panda_rightfinger', 'panda_leftfinger_0', 'panda_rightfinger_0', 'panda_coll0', 'panda_coll0b', 'panda_coll1', 'panda_coll3', 'panda_coll5', 'panda_coll2', 'panda_coll4', 'panda_coll6', 'panda_coll7', 'gripper', 'palm', 'finger1', 'finger2', 'r_panda_base', 'r_panda_link0', 'r_panda_link0_0', 'r_panda_joint1_origin', 'r_panda_joint1', 'r_panda_link1', 'r_panda_link1_0', 'r_panda_joint2_origin', 'r_panda_joint2', 'r_panda_link2', 'r_panda_link2_0', 'r_panda_joint3_origin', 'r_panda_joint3', 'r_panda_link3', 'r_panda_link3_0', 'r_panda_joint4_origin', 'r_panda_joint4', 'r_panda_link4', 'r_panda_link4_0', 'r_panda_joint5_origin', 'r_panda_joint5', 'r_panda_link5', 'r_panda_link5_0', 'r_panda_joint6_origin', 'r_panda_joint6', 'r_panda_link6', 'r_panda_link6_0', 'r_panda_joint7_origin', 'r_panda_joint7', 'r_panda_link7', 'r_panda_link7_0', 'r_panda_joint8_origin', 'r_panda_joint8', 'r_panda_link8', 'r_panda_hand_joint_origin', 'r_panda_hand_joint', 'r_panda_hand', 'r_panda_hand_0', 'r_panda_finger_joint1_origin', 'r_panda_finger_joint2_origin', 'r_panda_finger_joint1', 'r_panda_finger_joint2', 'r_panda_leftfinger', 'r_panda_rightfinger', 'r_panda_leftfinger_0', 'r_panda_rightfinger_0', 'r_panda_coll0', 'r_panda_coll0b', 'r_panda_coll1', 'r_panda_coll3', 'r_panda_coll5', 'r_panda_coll2', 'r_panda_coll4', 'r_panda_coll6', 'r_panda_coll7', 'r_gripper', 'r_palm', 'r_finger1', 'r_finger2']\n"
     ]
    }
   ],
   "source": [
    "print(C.getJointState())\n",
    "print('joints:', C.getJointNames())\n",
    "print('frames:', C.getFrameNames())"
   ]
  },
  {
   "cell_type": "markdown",
   "metadata": {},
   "source": [
    "Let's animate - without respect for limits or collisions! (E.g., the fingers go out of limits.)"
   ]
  },
  {
   "cell_type": "code",
   "execution_count": 14,
   "metadata": {},
   "outputs": [],
   "source": [
    "q0 = C.getJointState()\n",
    "for t in range(20):\n",
    "    q = q0 + .1*np.random.randn(q0.shape[0])\n",
    "    C.setJointState(q)\n",
    "    C.view()\n",
    "    time.sleep(.2)"
   ]
  },
  {
   "cell_type": "markdown",
   "metadata": {},
   "source": [
    "## Features: computing geometric properties\n",
    "For every frame we can query its pose:"
   ]
  },
  {
   "cell_type": "code",
   "execution_count": 15,
   "metadata": {},
   "outputs": [
    {
     "name": "stdout",
     "output_type": "stream",
     "text": [
      "gripper pos: [0.28285113 0.48303487 0.78372153]\n",
      "gripper quat: [-0.82227892 -0.21950445  0.40232861  0.33735273]\n",
      "gripper rot: [[ 0.44864964  0.37817024 -0.80975353]\n",
      " [-0.73142193  0.67602185 -0.08953445]\n",
      " [ 0.51355182  0.63244108  0.57989897]]\n"
     ]
    }
   ],
   "source": [
    "f = C.getFrame('r_gripper')\n",
    "print('gripper pos:', f.getPosition())\n",
    "print('gripper quat:', f.getQuaternion())\n",
    "print('gripper rot:', f.getRotationMatrix())"
   ]
  },
  {
   "cell_type": "markdown",
   "metadata": {},
   "source": [
    "The above provides basic forward kinematics: After `setJointState` you can query the pose of any configuration frame.\n",
    "\n",
    "However, there is a more general way to query *features* (see [Script:Features](https://marctoussaint.github.io/robotics-course/script/script.html#general-concept-of-differentiable-features)), i.e. properties of the configuration in a differentiable manner. You might not use this directly often; but defining differentiable features is the foundation of how optimization problems are formulated, which you will need a lot.\n",
    "\n",
    "Here are some example features to evaluate:"
   ]
  },
  {
   "cell_type": "code",
   "execution_count": 16,
   "metadata": {},
   "outputs": [
    {
     "name": "stdout",
     "output_type": "stream",
     "text": [
      "position of gripper: [0.27017462 0.03622352 0.84999348] \n",
      "Jacobian: [[-3.62235225e-02  5.13463103e-01 -7.02622624e-02 -2.71168832e-01\n",
      "  -1.27611357e-02  2.56483270e-02  2.60208521e-18  0.00000000e+00\n",
      "   0.00000000e+00  0.00000000e+00  0.00000000e+00  0.00000000e+00\n",
      "   0.00000000e+00  0.00000000e+00  0.00000000e+00  0.00000000e+00]\n",
      " [ 2.70174616e-01  6.03150204e-02  5.76809785e-01 -2.28430634e-02\n",
      "   1.64795742e-01  2.69416090e-02 -6.93889390e-17  0.00000000e+00\n",
      "   0.00000000e+00  0.00000000e+00  0.00000000e+00  0.00000000e+00\n",
      "   0.00000000e+00  0.00000000e+00  0.00000000e+00  0.00000000e+00]\n",
      " [ 0.00000000e+00 -2.72555698e-01 -3.69637629e-03  4.88346517e-01\n",
      "  -1.75743534e-02  2.34009216e-01  1.73472348e-18  0.00000000e+00\n",
      "   0.00000000e+00  0.00000000e+00  0.00000000e+00  0.00000000e+00\n",
      "   0.00000000e+00  0.00000000e+00  0.00000000e+00  0.00000000e+00]]\n"
     ]
    }
   ],
   "source": [
    "[y,J] = C.eval(ry.FS.position, ['gripper'])\n",
    "print('position of gripper:', y, '\\nJacobian:', J)"
   ]
  },
  {
   "cell_type": "code",
   "execution_count": 17,
   "metadata": {},
   "outputs": [
    {
     "data": {
      "text/plain": [
       "(array([-0.287672]),\n",
       " array([[ 8.92832227e-02,  5.19279493e-02,  5.58803809e-01,\n",
       "         -3.76354350e-02, -2.31257978e-02,  1.11019864e-03,\n",
       "         -3.11061377e-17, -0.00000000e+00, -7.07358385e-02,\n",
       "          3.18319343e-02, -5.48892145e-01, -7.56432874e-03,\n",
       "          6.87288685e-02,  6.43205889e-04,  1.36335428e-17,\n",
       "         -0.00000000e+00]]))"
      ]
     },
     "execution_count": 17,
     "metadata": {},
     "output_type": "execute_result"
    }
   ],
   "source": [
    "# negative(!) distance between two convex shapes (or origin of marker)\n",
    "C.eval(ry.FS.negDistance, ['panda_coll7', 'r_panda_coll7'])"
   ]
  },
  {
   "cell_type": "code",
   "execution_count": 18,
   "metadata": {},
   "outputs": [
    {
     "data": {
      "text/plain": [
       "(array([ 0.35672715, -0.68401201,  0.63629656]),\n",
       " array([[ 0.68401201,  0.6319515 ,  0.32046993, -0.61004922,  0.49726775,\n",
       "         -0.55852166, -0.31342281,  0.        ,  0.        ,  0.        ,\n",
       "          0.        ,  0.        ,  0.        ,  0.        ,  0.        ,\n",
       "          0.        ],\n",
       "        [ 0.35672715,  0.07423351,  0.72343628, -0.07620321, -0.28012681,\n",
       "         -0.01113349, -0.72925977,  0.        ,  0.        ,  0.        ,\n",
       "          0.        ,  0.        ,  0.        ,  0.        ,  0.        ,\n",
       "          0.        ],\n",
       "        [ 0.        , -0.27449095,  0.59802111,  0.26009446, -0.57991671,\n",
       "          0.3011558 , -0.60823213,  0.        ,  0.        ,  0.        ,\n",
       "          0.        ,  0.        ,  0.        ,  0.        ,  0.        ,\n",
       "          0.        ]]))"
      ]
     },
     "execution_count": 18,
     "metadata": {},
     "output_type": "execute_result"
    }
   ],
   "source": [
    "# the x-axis of the given frame in world coordinates\n",
    "C.eval(ry.FS.vectorX, ['gripper'])"
   ]
  },
  {
   "cell_type": "markdown",
   "metadata": {},
   "source": [
    "## Joint and Frame State\n",
    "\n",
    "A configuration is a tree of n frames. Every frame has a pose (position & quaternion), which is represented as a 7D vector (x,y,z, qw,qx,qy,qz). The frame state is the $n\\times 7$ matrix, where the i-th row is the pose of the i-th frame.\n",
    "\n",
    "A configuration also defines joints, which means that the relative transfromation from a parent to a child frame is parameterized by degrees-of-freedoms (DOFs). If the configuration has in total n DOFs, the joint state is a n-dimensional vector.\n",
    "\n",
    "Setting the joint state implies computing all relative transformations, and then forward chaining all transformations to compute all frame poses. So setting the joint state also sets the frame state.\n",
    "     \n",
    "Setting the frame state allows you to set frame poses that are inconsistent/impossible w.r.t. the joints! Setting the frame state implies computing all relative transformations from the frame poses, and then assigning the joint state to the *projection* onto the actual DOFs"
   ]
  },
  {
   "cell_type": "code",
   "execution_count": 19,
   "metadata": {},
   "outputs": [
    {
     "data": {
      "text/plain": [
       "0"
      ]
     },
     "execution_count": 19,
     "metadata": {},
     "output_type": "execute_result"
    }
   ],
   "source": [
    "C.setJointState(q0)\n",
    "C.view()"
   ]
  },
  {
   "cell_type": "markdown",
   "metadata": {},
   "source": [
    "The *frame state* is a $n\\times 7$ matrix, which contains for all of $n$ frames the 7D pose. A pose is stored as [p_x, p_y, p_z, q_w, q_x, q_y, q_z], with position p and quaternion q."
   ]
  },
  {
   "cell_type": "code",
   "execution_count": 20,
   "metadata": {},
   "outputs": [
    {
     "name": "stdout",
     "output_type": "stream",
     "text": [
      "frame state:  [[ 0.00000000e+00  0.00000000e+00  0.00000000e+00  1.00000000e+00\n",
      "   0.00000000e+00  0.00000000e+00  0.00000000e+00]\n",
      " [ 0.00000000e+00  0.00000000e+00  0.00000000e+00  1.00000000e+00\n",
      "   0.00000000e+00  0.00000000e+00  0.00000000e+00]\n",
      " [ 0.00000000e+00  0.00000000e+00  0.00000000e+00  1.00000000e+00\n",
      "   0.00000000e+00  0.00000000e+00  0.00000000e+00]\n",
      " [ 0.00000000e+00  0.00000000e+00  3.33000000e-01  1.00000000e+00\n",
      "   0.00000000e+00  0.00000000e+00  0.00000000e+00]\n",
      " [ 0.00000000e+00  0.00000000e+00  3.33000000e-01  1.00000000e+00\n",
      "   0.00000000e+00  0.00000000e+00  0.00000000e+00]\n",
      " [ 0.00000000e+00  0.00000000e+00  3.33000000e-01  1.00000000e+00\n",
      "   0.00000000e+00  0.00000000e+00  0.00000000e+00]\n",
      " [ 0.00000000e+00  0.00000000e+00  3.33000000e-01  1.00000000e+00\n",
      "   0.00000000e+00  0.00000000e+00  0.00000000e+00]\n",
      " [ 0.00000000e+00  0.00000000e+00  3.33000000e-01  7.07106781e-01\n",
      "  -7.07106781e-01  0.00000000e+00  0.00000000e+00]\n",
      " [ 0.00000000e+00  0.00000000e+00  3.33000000e-01  6.20544581e-01\n",
      "  -6.20544581e-01 -3.39005049e-01 -3.39005049e-01]\n",
      " [ 0.00000000e+00  0.00000000e+00  3.33000000e-01  6.20544581e-01\n",
      "  -6.20544581e-01 -3.39005049e-01 -3.39005049e-01]\n",
      " [ 0.00000000e+00  0.00000000e+00  3.33000000e-01  6.20544581e-01\n",
      "  -6.20544581e-01 -3.39005049e-01 -3.39005049e-01]\n",
      " [-2.65904831e-01 -1.05249143e-16  5.03735529e-01  8.77582562e-01\n",
      "   0.00000000e+00 -4.79425539e-01  0.00000000e+00]\n",
      " [-2.65904831e-01 -1.05249143e-16  5.03735529e-01  8.77582562e-01\n",
      "   0.00000000e+00 -4.79425539e-01  0.00000000e+00]\n",
      " [-2.65904831e-01 -1.05249143e-16  5.03735529e-01  8.77582562e-01\n",
      "   0.00000000e+00 -4.79425539e-01  0.00000000e+00]\n",
      " [-2.65904831e-01 -1.05249143e-16  5.03735529e-01  8.77582562e-01\n",
      "   0.00000000e+00 -4.79425539e-01  0.00000000e+00]\n",
      " [-2.21329891e-01 -1.05249143e-16  5.73156885e-01  6.20544581e-01\n",
      "   6.20544581e-01 -3.39005049e-01  3.39005049e-01]\n",
      " [-2.21329891e-01 -1.05249143e-16  5.73156885e-01  6.20544581e-01\n",
      "   6.20544581e-01  3.39005049e-01 -3.39005049e-01]\n",
      " [-2.21329891e-01 -1.05249143e-16  5.73156885e-01  6.20544581e-01\n",
      "   6.20544581e-01  3.39005049e-01 -3.39005049e-01]\n",
      " [-2.21329891e-01 -1.05249143e-16  5.73156885e-01  6.20544581e-01\n",
      "   6.20544581e-01  3.39005049e-01 -3.39005049e-01]\n",
      " [ 5.72200270e-02  2.67785794e-16  8.50054327e-01  8.77582562e-01\n",
      "   0.00000000e+00  4.79425539e-01  0.00000000e+00]\n",
      " [ 5.72200270e-02  2.67785794e-16  8.50054327e-01  8.77582562e-01\n",
      "   0.00000000e+00  4.79425539e-01  0.00000000e+00]\n",
      " [ 5.72200270e-02  2.67785794e-16  8.50054327e-01  8.77582562e-01\n",
      "   0.00000000e+00  4.79425539e-01  0.00000000e+00]\n",
      " [ 5.72200270e-02  2.67785794e-16  8.50054327e-01  8.77582562e-01\n",
      "   0.00000000e+00  4.79425539e-01  0.00000000e+00]\n",
      " [ 5.72200270e-02  2.67785794e-16  8.50054327e-01  6.20544581e-01\n",
      "   6.20544581e-01  3.39005049e-01 -3.39005049e-01]\n",
      " [ 5.72200270e-02  2.67785794e-16  8.50054327e-01  6.20544581e-01\n",
      "   6.20544581e-01 -3.39005049e-01  3.39005049e-01]\n",
      " [ 5.72200270e-02  2.67785794e-16  8.50054327e-01  6.20544581e-01\n",
      "   6.20544581e-01 -3.39005049e-01  3.39005049e-01]\n",
      " [ 5.72200270e-02  2.67785794e-16  8.50054327e-01  6.20544581e-01\n",
      "   6.20544581e-01 -3.39005049e-01  3.39005049e-01]\n",
      " [ 1.04766630e-01  2.67785794e-16  9.24103773e-01  0.00000000e+00\n",
      "   8.77582562e-01  0.00000000e+00  4.79425539e-01]\n",
      " [ 1.04766630e-01  2.67785794e-16  9.24103773e-01  0.00000000e+00\n",
      "   8.77582562e-01  0.00000000e+00  4.79425539e-01]\n",
      " [ 1.04766630e-01  2.67785794e-16  9.24103773e-01  0.00000000e+00\n",
      "   8.77582562e-01  0.00000000e+00  4.79425539e-01]\n",
      " [ 1.04766630e-01  2.67785794e-16  9.24103773e-01  0.00000000e+00\n",
      "   8.77582562e-01  0.00000000e+00  4.79425539e-01]\n",
      " [ 1.94804025e-01  2.67785794e-16  8.66291427e-01  0.00000000e+00\n",
      "   8.77582562e-01  0.00000000e+00  4.79425539e-01]\n",
      " [ 1.94804025e-01  2.67785794e-16  8.66291427e-01  0.00000000e+00\n",
      "   8.77582562e-01  0.00000000e+00  4.79425539e-01]\n",
      " [ 1.94804025e-01  2.67785794e-16  8.66291427e-01  0.00000000e+00\n",
      "   8.77582562e-01  0.00000000e+00  4.79425539e-01]\n",
      " [ 1.94804025e-01  2.67785794e-16  8.66291427e-01  1.83467955e-01\n",
      "   8.10780761e-01  3.35835838e-01  4.42931549e-01]\n",
      " [ 1.94804025e-01  2.67785794e-16  8.66291427e-01  1.83467955e-01\n",
      "   8.10780761e-01  3.35835838e-01  4.42931549e-01]\n",
      " [ 1.94804025e-01  2.67785794e-16  8.66291427e-01  1.83467955e-01\n",
      "   8.10780761e-01  3.35835838e-01  4.42931549e-01]\n",
      " [ 1.94804025e-01  2.67785794e-16  8.66291427e-01  1.83467955e-01\n",
      "   8.10780761e-01  3.35835838e-01  4.42931549e-01]\n",
      " [ 2.43945931e-01  2.71027645e-16  8.34737772e-01  1.83467955e-01\n",
      "   8.10780761e-01  3.35835838e-01  4.42931549e-01]\n",
      " [ 2.43945931e-01  2.71027645e-16  8.34737772e-01  1.83467955e-01\n",
      "   8.10780761e-01  3.35835838e-01  4.42931549e-01]\n",
      " [ 2.63048480e-01 -3.53553800e-02  8.64488229e-01  1.83467955e-01\n",
      "   8.10780761e-01  3.35835838e-01  4.42931549e-01]\n",
      " [ 2.24843382e-01  3.53553800e-02  8.04987314e-01  1.83467955e-01\n",
      "   8.10780761e-01  3.35835838e-01  4.42931549e-01]\n",
      " [ 2.63048480e-01 -3.53553800e-02  8.64488229e-01  1.83467955e-01\n",
      "   8.10780761e-01  3.35835838e-01  4.42931549e-01]\n",
      " [ 2.24843382e-01  3.53553800e-02  8.04987314e-01  1.83467955e-01\n",
      "   8.10780761e-01  3.35835838e-01  4.42931549e-01]\n",
      " [ 2.63048480e-01 -3.53553800e-02  8.64488229e-01  1.83467955e-01\n",
      "   8.10780761e-01  3.35835838e-01  4.42931549e-01]\n",
      " [ 2.24843382e-01  3.53553800e-02  8.04987314e-01 -4.42931549e-01\n",
      "   3.35835838e-01 -8.10780761e-01  1.83467955e-01]\n",
      " [-4.00000000e-02  0.00000000e+00  3.00000000e-02  7.07106781e-01\n",
      "   0.00000000e+00  7.07106781e-01  0.00000000e+00]\n",
      " [-2.00000000e-01 -1.20000000e-01  0.00000000e+00  7.07106781e-01\n",
      "   0.00000000e+00  7.07106781e-01  0.00000000e+00]\n",
      " [ 0.00000000e+00  0.00000000e+00  1.83000000e-01  1.00000000e+00\n",
      "   0.00000000e+00  0.00000000e+00  0.00000000e+00]\n",
      " [-1.39684183e-01 -1.05249143e-16  4.22690183e-01  8.77582562e-01\n",
      "   0.00000000e+00 -4.79425539e-01  0.00000000e+00]\n",
      " [-1.11074170e-01  2.00000000e-02  7.41993865e-01  8.77582562e-01\n",
      "   0.00000000e+00  4.79425539e-01  0.00000000e+00]\n",
      " [ 0.00000000e+00  0.00000000e+00  3.33000000e-01  6.20544581e-01\n",
      "  -6.20544581e-01 -3.39005049e-01 -3.39005049e-01]\n",
      " [-2.21329891e-01 -1.05249143e-16  5.73156885e-01  6.20544581e-01\n",
      "   6.20544581e-01  3.39005049e-01 -3.39005049e-01]\n",
      " [ 5.72200270e-02  4.00000000e-02  8.50054327e-01  6.20544581e-01\n",
      "   6.20544581e-01 -3.39005049e-01  3.39005049e-01]\n",
      " [ 1.13181340e-01  2.67785794e-16  9.18700750e-01  0.00000000e+00\n",
      "   8.77582562e-01  0.00000000e+00  4.79425539e-01]\n",
      " [ 2.89890247e-01  2.67785794e-16  8.05237266e-01 -8.10780567e-01\n",
      "  -1.83468211e-01  4.42931442e-01  3.35836307e-01]\n",
      " [ 1.94804025e-01  2.67785794e-16  8.66291427e-01 -4.43577140e-01\n",
      "   7.03040009e-01  5.50671700e-01  7.57281032e-02]\n",
      " [ 3.03197392e-01 -5.51543927e-02  8.62237905e-01  1.83467955e-01\n",
      "   8.10780761e-01  3.35835838e-01  4.42931549e-01]\n",
      " [ 2.43597439e-01  5.51543927e-02  7.69416477e-01  1.83467955e-01\n",
      "   8.10780761e-01  3.35835838e-01  4.42931549e-01]\n",
      " [ 0.00000000e+00  5.00000000e-01  0.00000000e+00  1.00000000e+00\n",
      "   0.00000000e+00  0.00000000e+00  0.00000000e+00]\n",
      " [ 0.00000000e+00  5.00000000e-01  0.00000000e+00  1.00000000e+00\n",
      "   0.00000000e+00  0.00000000e+00  0.00000000e+00]\n",
      " [ 0.00000000e+00  5.00000000e-01  0.00000000e+00  1.00000000e+00\n",
      "   0.00000000e+00  0.00000000e+00  0.00000000e+00]\n",
      " [ 0.00000000e+00  5.00000000e-01  3.33000000e-01  1.00000000e+00\n",
      "   0.00000000e+00  0.00000000e+00  0.00000000e+00]\n",
      " [ 0.00000000e+00  5.00000000e-01  3.33000000e-01  1.00000000e+00\n",
      "   0.00000000e+00  0.00000000e+00  0.00000000e+00]\n",
      " [ 0.00000000e+00  5.00000000e-01  3.33000000e-01  1.00000000e+00\n",
      "   0.00000000e+00  0.00000000e+00  0.00000000e+00]\n",
      " [ 0.00000000e+00  5.00000000e-01  3.33000000e-01  1.00000000e+00\n",
      "   0.00000000e+00  0.00000000e+00  0.00000000e+00]\n",
      " [ 0.00000000e+00  5.00000000e-01  3.33000000e-01  7.07106781e-01\n",
      "  -7.07106781e-01  0.00000000e+00  0.00000000e+00]\n",
      " [ 0.00000000e+00  5.00000000e-01  3.33000000e-01  6.20544581e-01\n",
      "  -6.20544581e-01 -3.39005049e-01 -3.39005049e-01]\n",
      " [ 0.00000000e+00  5.00000000e-01  3.33000000e-01  6.20544581e-01\n",
      "  -6.20544581e-01 -3.39005049e-01 -3.39005049e-01]\n",
      " [ 0.00000000e+00  5.00000000e-01  3.33000000e-01  6.20544581e-01\n",
      "  -6.20544581e-01 -3.39005049e-01 -3.39005049e-01]\n",
      " [-2.65904831e-01  5.00000000e-01  5.03735529e-01  8.77582562e-01\n",
      "   0.00000000e+00 -4.79425539e-01  0.00000000e+00]\n",
      " [-2.65904831e-01  5.00000000e-01  5.03735529e-01  8.77582562e-01\n",
      "   0.00000000e+00 -4.79425539e-01  0.00000000e+00]\n",
      " [-2.65904831e-01  5.00000000e-01  5.03735529e-01  8.77582562e-01\n",
      "   0.00000000e+00 -4.79425539e-01  0.00000000e+00]\n",
      " [-2.65904831e-01  5.00000000e-01  5.03735529e-01  8.77582562e-01\n",
      "   0.00000000e+00 -4.79425539e-01  0.00000000e+00]\n",
      " [-2.21329891e-01  5.00000000e-01  5.73156885e-01  6.20544581e-01\n",
      "   6.20544581e-01 -3.39005049e-01  3.39005049e-01]\n",
      " [-2.21329891e-01  5.00000000e-01  5.73156885e-01  6.20544581e-01\n",
      "   6.20544581e-01  3.39005049e-01 -3.39005049e-01]\n",
      " [-2.21329891e-01  5.00000000e-01  5.73156885e-01  6.20544581e-01\n",
      "   6.20544581e-01  3.39005049e-01 -3.39005049e-01]\n",
      " [-2.21329891e-01  5.00000000e-01  5.73156885e-01  6.20544581e-01\n",
      "   6.20544581e-01  3.39005049e-01 -3.39005049e-01]\n",
      " [ 5.72200270e-02  5.00000000e-01  8.50054327e-01  8.77582562e-01\n",
      "   0.00000000e+00  4.79425539e-01  0.00000000e+00]\n",
      " [ 5.72200270e-02  5.00000000e-01  8.50054327e-01  8.77582562e-01\n",
      "   0.00000000e+00  4.79425539e-01  0.00000000e+00]\n",
      " [ 5.72200270e-02  5.00000000e-01  8.50054327e-01  8.77582562e-01\n",
      "   0.00000000e+00  4.79425539e-01  0.00000000e+00]\n",
      " [ 5.72200270e-02  5.00000000e-01  8.50054327e-01  8.77582562e-01\n",
      "   0.00000000e+00  4.79425539e-01  0.00000000e+00]\n",
      " [ 5.72200270e-02  5.00000000e-01  8.50054327e-01  6.20544581e-01\n",
      "   6.20544581e-01  3.39005049e-01 -3.39005049e-01]\n",
      " [ 5.72200270e-02  5.00000000e-01  8.50054327e-01  6.20544581e-01\n",
      "   6.20544581e-01 -3.39005049e-01  3.39005049e-01]\n",
      " [ 5.72200270e-02  5.00000000e-01  8.50054327e-01  6.20544581e-01\n",
      "   6.20544581e-01 -3.39005049e-01  3.39005049e-01]\n",
      " [ 5.72200270e-02  5.00000000e-01  8.50054327e-01  6.20544581e-01\n",
      "   6.20544581e-01 -3.39005049e-01  3.39005049e-01]\n",
      " [ 1.04766630e-01  5.00000000e-01  9.24103773e-01  0.00000000e+00\n",
      "   8.77582562e-01  0.00000000e+00  4.79425539e-01]\n",
      " [ 1.04766630e-01  5.00000000e-01  9.24103773e-01  0.00000000e+00\n",
      "   8.77582562e-01  0.00000000e+00  4.79425539e-01]\n",
      " [ 1.04766630e-01  5.00000000e-01  9.24103773e-01  0.00000000e+00\n",
      "   8.77582562e-01  0.00000000e+00  4.79425539e-01]\n",
      " [ 1.04766630e-01  5.00000000e-01  9.24103773e-01  0.00000000e+00\n",
      "   8.77582562e-01  0.00000000e+00  4.79425539e-01]\n",
      " [ 1.94804025e-01  5.00000000e-01  8.66291427e-01  0.00000000e+00\n",
      "   8.77582562e-01  0.00000000e+00  4.79425539e-01]\n",
      " [ 1.94804025e-01  5.00000000e-01  8.66291427e-01  0.00000000e+00\n",
      "   8.77582562e-01  0.00000000e+00  4.79425539e-01]\n",
      " [ 1.94804025e-01  5.00000000e-01  8.66291427e-01  0.00000000e+00\n",
      "   8.77582562e-01  0.00000000e+00  4.79425539e-01]\n",
      " [ 1.94804025e-01  5.00000000e-01  8.66291427e-01  1.83467955e-01\n",
      "   8.10780761e-01  3.35835838e-01  4.42931549e-01]\n",
      " [ 1.94804025e-01  5.00000000e-01  8.66291427e-01  1.83467955e-01\n",
      "   8.10780761e-01  3.35835838e-01  4.42931549e-01]\n",
      " [ 1.94804025e-01  5.00000000e-01  8.66291427e-01  1.83467955e-01\n",
      "   8.10780761e-01  3.35835838e-01  4.42931549e-01]\n",
      " [ 1.94804025e-01  5.00000000e-01  8.66291427e-01  1.83467955e-01\n",
      "   8.10780761e-01  3.35835838e-01  4.42931549e-01]\n",
      " [ 2.43945931e-01  5.00000000e-01  8.34737772e-01  1.83467955e-01\n",
      "   8.10780761e-01  3.35835838e-01  4.42931549e-01]\n",
      " [ 2.43945931e-01  5.00000000e-01  8.34737772e-01  1.83467955e-01\n",
      "   8.10780761e-01  3.35835838e-01  4.42931549e-01]\n",
      " [ 2.63048480e-01  4.64644620e-01  8.64488229e-01  1.83467955e-01\n",
      "   8.10780761e-01  3.35835838e-01  4.42931549e-01]\n",
      " [ 2.24843382e-01  5.35355380e-01  8.04987314e-01  1.83467955e-01\n",
      "   8.10780761e-01  3.35835838e-01  4.42931549e-01]\n",
      " [ 2.63048480e-01  4.64644620e-01  8.64488229e-01  1.83467955e-01\n",
      "   8.10780761e-01  3.35835838e-01  4.42931549e-01]\n",
      " [ 2.24843382e-01  5.35355380e-01  8.04987314e-01  1.83467955e-01\n",
      "   8.10780761e-01  3.35835838e-01  4.42931549e-01]\n",
      " [ 2.63048480e-01  4.64644620e-01  8.64488229e-01  1.83467955e-01\n",
      "   8.10780761e-01  3.35835838e-01  4.42931549e-01]\n",
      " [ 2.24843382e-01  5.35355380e-01  8.04987314e-01 -4.42931549e-01\n",
      "   3.35835838e-01 -8.10780761e-01  1.83467955e-01]\n",
      " [-4.00000000e-02  5.00000000e-01  3.00000000e-02  7.07106781e-01\n",
      "   0.00000000e+00  7.07106781e-01  0.00000000e+00]\n",
      " [-2.00000000e-01  3.80000000e-01  0.00000000e+00  7.07106781e-01\n",
      "   0.00000000e+00  7.07106781e-01  0.00000000e+00]\n",
      " [ 0.00000000e+00  5.00000000e-01  1.83000000e-01  1.00000000e+00\n",
      "   0.00000000e+00  0.00000000e+00  0.00000000e+00]\n",
      " [-1.39684183e-01  5.00000000e-01  4.22690183e-01  8.77582562e-01\n",
      "   0.00000000e+00 -4.79425539e-01  0.00000000e+00]\n",
      " [-1.11074170e-01  5.20000000e-01  7.41993865e-01  8.77582562e-01\n",
      "   0.00000000e+00  4.79425539e-01  0.00000000e+00]\n",
      " [ 0.00000000e+00  5.00000000e-01  3.33000000e-01  6.20544581e-01\n",
      "  -6.20544581e-01 -3.39005049e-01 -3.39005049e-01]\n",
      " [-2.21329891e-01  5.00000000e-01  5.73156885e-01  6.20544581e-01\n",
      "   6.20544581e-01  3.39005049e-01 -3.39005049e-01]\n",
      " [ 5.72200270e-02  5.40000000e-01  8.50054327e-01  6.20544581e-01\n",
      "   6.20544581e-01 -3.39005049e-01  3.39005049e-01]\n",
      " [ 1.13181340e-01  5.00000000e-01  9.18700750e-01  0.00000000e+00\n",
      "   8.77582562e-01  0.00000000e+00  4.79425539e-01]\n",
      " [ 2.89890247e-01  5.00000000e-01  8.05237266e-01 -8.10780567e-01\n",
      "  -1.83468211e-01  4.42931442e-01  3.35836307e-01]\n",
      " [ 1.94804025e-01  5.00000000e-01  8.66291427e-01 -4.43577140e-01\n",
      "   7.03040009e-01  5.50671700e-01  7.57281032e-02]\n",
      " [ 3.03197392e-01  4.44845607e-01  8.62237905e-01  1.83467955e-01\n",
      "   8.10780761e-01  3.35835838e-01  4.42931549e-01]\n",
      " [ 2.43597439e-01  5.55154393e-01  7.69416477e-01  1.83467955e-01\n",
      "   8.10780761e-01  3.35835838e-01  4.42931549e-01]]\n"
     ]
    }
   ],
   "source": [
    "X0 = C.getFrameState()\n",
    "print('frame state: ', X0)"
   ]
  },
  {
   "cell_type": "markdown",
   "metadata": {},
   "source": [
    "Let's do a very questionable thing: adding .1 to all numbers in the frame matrix!"
   ]
  },
  {
   "cell_type": "code",
   "execution_count": 21,
   "metadata": {},
   "outputs": [
    {
     "data": {
      "text/plain": [
       "0"
      ]
     },
     "execution_count": 21,
     "metadata": {},
     "output_type": "execute_result"
    }
   ],
   "source": [
    "X = X0 + .1\n",
    "C.setFrameState(X)\n",
    "C.view()"
   ]
  },
  {
   "cell_type": "markdown",
   "metadata": {},
   "source": [
    "That totally broke the original design of the robot! Setting global frame states overwrites the relative transformations between frames.\n",
    "\n",
    "(Also, the rows of X have non-normalized quaternions! These are normalized when setting the frame state.)\n",
    "\n",
    "Let's reset:"
   ]
  },
  {
   "cell_type": "code",
   "execution_count": 22,
   "metadata": {},
   "outputs": [
    {
     "data": {
      "text/plain": [
       "0"
      ]
     },
     "execution_count": 22,
     "metadata": {},
     "output_type": "execute_result"
    }
   ],
   "source": [
    "C.setFrameState(X0)\n",
    "C.view()"
   ]
  },
  {
   "cell_type": "markdown",
   "metadata": {},
   "source": [
    " ## Selecting joints\n",
    "\n",
    "Often one would like to choose which joints are actually active, that is, which joints are referred to in q. This allows one to sub-select joints and work only with projections of the full configuration state. This changes the joint state dimensionality, including ordering of entries in q. The frame state is not affected by such a selection of active joints."
   ]
  },
  {
   "cell_type": "code",
   "execution_count": 23,
   "metadata": {},
   "outputs": [
    {
     "name": "stdout",
     "output_type": "stream",
     "text": [
      "joint state:  [0.]\n",
      "joint names:  ['panda_joint1']\n"
     ]
    }
   ],
   "source": [
    "C.selectJoints(['panda_joint1', 'panda_joint1'])\n",
    "print('joint state: ', C.getJointState())\n",
    "print('joint names: ', C.getJointNames() )"
   ]
  },
  {
   "cell_type": "code",
   "execution_count": 24,
   "metadata": {},
   "outputs": [
    {
     "name": "stdout",
     "output_type": "stream",
     "text": [
      "joint state:  [ 0.      -1.00001  0.      -2.00001  0.       2.00001  0.       0.05\n",
      "  0.      -1.00001  0.      -2.00001  0.       2.00001  0.       0.05   ]\n",
      "joint names:  ['panda_joint1', 'panda_joint2', 'panda_joint3', 'panda_joint4', 'panda_joint5', 'panda_joint6', 'panda_joint7', 'panda_finger_joint1panda_finger_joint2', 'r_panda_joint1', 'r_panda_joint2', 'r_panda_joint3', 'r_panda_joint4', 'r_panda_joint5', 'r_panda_joint6', 'r_panda_joint7', 'r_panda_finger_joint1r_panda_finger_joint2']\n"
     ]
    }
   ],
   "source": [
    "C.selectJoints([], True)\n",
    "print('joint state: ', C.getJointState())\n",
    "print('joint names: ', C.getJointNames() )"
   ]
  },
  {
   "cell_type": "markdown",
   "metadata": {},
   "source": [
    "## View interaction and releasing objects"
   ]
  },
  {
   "cell_type": "markdown",
   "metadata": {},
   "source": [
    "You can close and re-open the view window"
   ]
  },
  {
   "cell_type": "code",
   "execution_count": 25,
   "metadata": {},
   "outputs": [],
   "source": [
    "C.view_close()"
   ]
  },
  {
   "cell_type": "code",
   "execution_count": 26,
   "metadata": {},
   "outputs": [
    {
     "data": {
      "text/plain": [
       "0"
      ]
     },
     "execution_count": 26,
     "metadata": {},
     "output_type": "execute_result"
    }
   ],
   "source": [
    "# things are still there\n",
    "C.view(pause=False, message='this is a message')"
   ]
  },
  {
   "cell_type": "markdown",
   "metadata": {},
   "source": [
    "For user interaction it is often useful to wait for a keypress (making `view` a blocking call):"
   ]
  },
  {
   "cell_type": "code",
   "execution_count": 27,
   "metadata": {},
   "outputs": [
    {
     "name": "stdout",
     "output_type": "stream",
     "text": [
      "pressed key: 121 y\n"
     ]
    }
   ],
   "source": [
    "keypressed = C.view(True, 'press some key!')\n",
    "print('pressed key:', keypressed, chr(keypressed))"
   ]
  },
  {
   "cell_type": "markdown",
   "metadata": {},
   "source": [
    "You can also get a screenshot:"
   ]
  },
  {
   "cell_type": "code",
   "execution_count": 28,
   "metadata": {},
   "outputs": [
    {
     "name": "stdout",
     "output_type": "stream",
     "text": [
      "<class 'numpy.ndarray'> (400, 400, 3)\n"
     ]
    }
   ],
   "source": [
    "img = C.view_getScreenshot()\n",
    "print(type(img), img.shape)"
   ]
  },
  {
   "cell_type": "code",
   "execution_count": 29,
   "metadata": {},
   "outputs": [
    {
     "data": {
      "image/png": "[encoded data removed]",
      "text/plain": [
       "<Figure size 640x480 with 1 Axes>"
      ]
     },
     "metadata": {},
     "output_type": "display_data"
    }
   ],
   "source": [
    "import matplotlib.pyplot as plt\n",
    "plt.imshow(img)\n",
    "plt.show()"
   ]
  },
  {
   "cell_type": "markdown",
   "metadata": {},
   "source": [
    "And release everything, including closing the view"
   ]
  },
  {
   "cell_type": "code",
   "execution_count": 30,
   "metadata": {},
   "outputs": [],
   "source": [
    "del C"
   ]
  },
  {
   "cell_type": "code",
   "execution_count": null,
   "metadata": {},
   "outputs": [],
   "source": []
  }
 ],
 "metadata": {
  "kernelspec": {
   "display_name": "Python 3 (ipykernel)",
   "language": "python",
   "name": "python3"
  },
  "language_info": {
   "codemirror_mode": {
    "name": "ipython",
    "version": 3
   },
   "file_extension": ".py",
   "mimetype": "text/x-python",
   "name": "python",
   "nbconvert_exporter": "python",
   "pygments_lexer": "ipython3",
   "version": "3.8.10"
  }
 },
 "nbformat": 4,
 "nbformat_minor": 4
}
