{
 "cells": [
  {
   "cell_type": "code",
   "execution_count": null,
   "id": "91746f55-11c2-4591-a337-4155376e7596",
   "metadata": {},
   "outputs": [],
   "source": [
    "#import sys, os\n",
    "#sys.path.append(os.path.expanduser('~/git/botop/build'))\n",
    "#import libry as ry\n",
    "from robotic import ry\n",
    "import numpy as np\n",
    "import time\n",
    "import matplotlib.pyplot as plt"
   ]
  },
  {
   "cell_type": "code",
   "execution_count": null,
   "id": "f18925ed",
   "metadata": {},
   "outputs": [],
   "source": [
    "C = ry.Config()\n",
    "C.addFile(ry.raiPath('../rai-robotModels/scenarios/pandasTable.g'))\n",
    "\n",
    "obj = C.addFrame('obj')\n",
    "obj.setPose('t(0. 0.1 0.8)')\n",
    "obj.setShape(ry.ST.ssBox, size=[.05,.05,.05,.005])\n",
    "obj.setColor([1,.0,0])\n",
    "obj.setMass(.1)\n",
    "obj.setContact(True)\n",
    "#cameraFrame = C.addFrame(\"myCamera\")\n",
    "#cameraFrame.setShape(ry.ST.marker, [0.3])\n",
    "# cameraFrame.setPosition([0,0,2.0])\n",
    "#cameraFrame.setPosition([0,1.0,2.0])\n",
    "#cameraFrame.setQuaternion([1,-0.5,0,1])\n",
    "C.view()"
   ]
  },
  {
   "cell_type": "code",
   "execution_count": null,
   "id": "55da8f34",
   "metadata": {},
   "outputs": [],
   "source": [
    "bot = ry.BotOp(C, False)\n",
    "bot.home(C)"
   ]
  },
  {
   "cell_type": "code",
   "execution_count": null,
   "id": "1bd73706-2f9b-4c4d-93bd-cdba581408b7",
   "metadata": {},
   "outputs": [],
   "source": [
    "rgb, depth = bot.getImageAndDepth(\"camera\")\n",
    "\n",
    "fig = plt.figure(figsize=(10,5))\n",
    "axs = fig.subplots(1, 2)\n",
    "axs[0].imshow(rgb)\n",
    "axs[1].matshow(depth)\n",
    "plt.show()"
   ]
  },
  {
   "cell_type": "markdown",
   "id": "ce65b01b-9811-496c-9774-1589d5455deb",
   "metadata": {},
   "source": [
    "From the lecture slides, we learned\n",
    "$$\\hat x = f\\frac{X}{Z}+p_x,~\\hat y = f\\frac{Y}{Z}+p_y,$$\n",
    "where\n",
    "- $\\hat x, \\hat y$ are image coordinates ($u$-$v$ or pixel),\n",
    "- $X, Y, Z$ represent camera coordinates, and\n",
    "- $p_x, p_y$ are the image offset.\n",
    "\n",
    "Since we know the $Z$ value of each pixel, we can compute their 3D coordinate (in camera frame):\n",
    "$$ X = Z\\frac{\\hat x-p_x}{f},~  Y = Z\\frac{\\hat y-p_y}{f}.$$"
   ]
  },
  {
   "cell_type": "code",
   "execution_count": null,
   "id": "426eb3b6",
   "metadata": {},
   "outputs": [],
   "source": [
    "fxypxy = bot.getCameraFxypxy(\"camera\")\n",
    "print(fxypxy)\n",
    "depth.shape\n",
    "cameraFrame = C.getFrame(\"camera\")"
   ]
  },
  {
   "cell_type": "code",
   "execution_count": null,
   "id": "cc08f354-0e4d-475b-8af5-ebff63533142",
   "metadata": {},
   "outputs": [],
   "source": [
    "fx, fy = fxypxy[0], fxypxy[1]\n",
    "px, py = fxypxy[2], fxypxy[3]\n",
    "R, t = cameraFrame.getRotationMatrix(), cameraFrame.getPosition()\n",
    "H, W = depth.shape\n",
    "\n",
    "Ctmp = ry.Config()\n",
    "points = np.zeros((H,W,3))\n",
    "#for i in range(H):\n",
    "if False:\n",
    "    for j in range(W):\n",
    "        Z = depth[i,j]\n",
    "        if Z < 0:\n",
    "            continue\n",
    "            \n",
    "        ## depth is sign-fliped, j: right, i: down\n",
    "        points[i,j,0] = Z * (j - px) / fx;\n",
    "        points[i,j,1] = -Z * (i - py) / fy;\n",
    "        points[i,j,2] = -Z\n",
    "        \n",
    "        ## Coordinate transformation (from camera to world) \n",
    "        points[i,j] = R@points[i,j] + t\n",
    "        \n",
    "        tmp = Ctmp.addFrame(\"pc\"+str(i)+str(j))\n",
    "        tmp.setShape(ry.ST.sphere, [0.02])\n",
    "#         tmp.setColor([1,0,0])\n",
    "        tmp.setColor(rgb[i,j]/255)\n",
    "        tmp.setPosition(points[i,j])\n",
    "    Ctmp.view()"
   ]
  },
  {
   "cell_type": "code",
   "execution_count": null,
   "id": "1a9d2d8a-07ae-4dc3-afa5-3c90ac7d2b8e",
   "metadata": {},
   "outputs": [],
   "source": [
    "#C2 = ry.Config()\n",
    "#pclFrame = C2.addFrame('pcl')\n",
    "#pclFrame.setPosition(cameraFrame.getPosition())\n",
    "#pclFrame.setQuaternion(cameraFrame.getQuaternion())\n",
    "C.delFrame('pcl')\n",
    "pclFrame = C.addFrame('pcl', 'camera')\n",
    "\n",
    "rgb, _, points = bot.getImageDepthPcl('camera', False)\n",
    "pclFrame.setPointCloud(points, rgb)\n",
    "pclFrame.setColor([1.,0.,0.]) #only to see it when overlaying with truth\n",
    "C.view_recopyMeshes()\n",
    "C.view()"
   ]
  },
  {
   "cell_type": "code",
   "execution_count": null,
   "id": "6e222a0a",
   "metadata": {},
   "outputs": [],
   "source": [
    "C.delFrame('pcl')"
   ]
  },
  {
   "cell_type": "code",
   "execution_count": null,
   "id": "72179b41",
   "metadata": {},
   "outputs": [],
   "source": [
    "bot.sync(C)"
   ]
  },
  {
   "cell_type": "code",
   "execution_count": null,
   "id": "cfdb8d55",
   "metadata": {},
   "outputs": [],
   "source": [
    "del bot\n",
    "del C"
   ]
  },
  {
   "cell_type": "code",
   "execution_count": null,
   "id": "60ecc8d4",
   "metadata": {},
   "outputs": [],
   "source": []
  }
 ],
 "metadata": {
  "kernelspec": {
   "display_name": "Python 3 (ipykernel)",
   "language": "python",
   "name": "python3"
  },
  "language_info": {
   "codemirror_mode": {
    "name": "ipython",
    "version": 3
   },
   "file_extension": ".py",
   "mimetype": "text/x-python",
   "name": "python",
   "nbconvert_exporter": "python",
   "pygments_lexer": "ipython3",
   "version": "3.6.9"
  }
 },
 "nbformat": 4,
 "nbformat_minor": 5
}
